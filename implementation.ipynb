{
 "cells": [
  {
   "cell_type": "code",
   "execution_count": 1,
   "metadata": {},
   "outputs": [],
   "source": [
    "import pandas as pd\n",
    "import numpy as np\n",
    "import matplotlib.pyplot as plt\n",
    "import cv2\n",
    "from os import listdir\n",
    "from os.path import isfile, join\n",
    "import random\n",
    "from tensorflow.keras.preprocessing.image import ImageDataGenerator\n",
    "from tensorflow import keras\n",
    "from tensorflow.keras.utils import to_categorical\n",
    "from sklearn.preprocessing import MultiLabelBinarizer\n",
    "from tensorflow.keras.applications import MobileNetV2\n",
    "from tensorflow.keras.layers import AveragePooling2D\n",
    "from tensorflow.keras.layers import Dropout\n",
    "from tensorflow.keras.layers import Flatten\n",
    "from tensorflow.keras.layers import Dense\n",
    "from tensorflow.keras.layers import Input\n",
    "from tensorflow.keras.models import Model\n",
    "from sklearn.preprocessing import MultiLabelBinarizer\n",
    "from tensorflow.keras.optimizers import Adam\n",
    "from sklearn.model_selection import train_test_split \n",
    "from sklearn.preprocessing import OneHotEncoder\n",
    "import tensorflow as tf\n",
    "import string\n",
    "import warnings\n",
    "import seaborn\n",
    "from scipy.special import softmax"
   ]
  },
  {
   "cell_type": "markdown",
   "metadata": {},
   "source": [
    "# Préprocessing"
   ]
  },
  {
   "cell_type": "code",
   "execution_count": 2,
   "metadata": {},
   "outputs": [],
   "source": [
    "#Fonction permettant d'importer les données d'un language du dataset\n",
    "\n",
    "def importerUnLanguage(emplacement_dataset, langage):\n",
    "    path_langage = emplacement_dataset+'/'+langage\n",
    "    list_file_name = [f for f in listdir(path_langage) if isfile(join(path_langage, f))]\n",
    "    data = []\n",
    "    for e in list_file_name: \n",
    "        path = path_langage+\"/\"+e\n",
    "        file = open(path, \"r\")\n",
    "        data.append(file.read())\n",
    "        file.close()\n",
    "\n",
    "    return data"
   ]
  },
  {
   "cell_type": "code",
   "execution_count": 3,
   "metadata": {},
   "outputs": [],
   "source": [
    "nom_dataset='dataset_v2' # Emplacement du dataset\n",
    "\n",
    "scripts_html = importerUnLanguage(nom_dataset, 'html')\n",
    "scripts_python = importerUnLanguage(nom_dataset, 'python')\n",
    "scripts_C = importerUnLanguage(nom_dataset, 'c')\n",
    "scripts_java = importerUnLanguage(nom_dataset, 'java')"
   ]
  },
  {
   "cell_type": "code",
   "execution_count": 4,
   "metadata": {},
   "outputs": [
    {
     "output_type": "stream",
     "name": "stdout",
     "text": [
      "nombre de scripts disponibles :\nscripts_html contient 12001 scripts html\nscripts_python contient : 12001 scripts python\nscripts_C contient : 12001 scripts C\nscripts_java contient : 12001 scripts java\n"
     ]
    }
   ],
   "source": [
    "print(\"nombre de scripts disponibles :\")\n",
    "print(\"scripts_html contient\",len(scripts_html),\"scripts html\")\n",
    "print(\"scripts_python contient :\",len(scripts_python),\"scripts python\")\n",
    "print(\"scripts_C contient :\",len(scripts_C),\"scripts C\")\n",
    "print(\"scripts_java contient :\",len(scripts_java),\"scripts java\")"
   ]
  },
  {
   "cell_type": "markdown",
   "metadata": {},
   "source": [
    "On a 12000 scripts disponibles par language"
   ]
  },
  {
   "cell_type": "markdown",
   "metadata": {},
   "source": [
    "On affiche quelques exemples : "
   ]
  },
  {
   "cell_type": "code",
   "execution_count": 5,
   "metadata": {
    "tags": []
   },
   "outputs": [
    {
     "output_type": "stream",
     "name": "stdout",
     "text": [
      "2 scripts html pris au hasard :\n---------------------------------------------------------------------------------------\nhttp://browse.deviantart.com/resources/applications/psbrushes/?order=9    \n\nSorted by Popular\nSorted by All Time \nSorted by 24 Items Per Page\n\nThe Author\nThe Title\nThe Description\nDownload the File (create folder based on title name)\nDownload the Image (place in folder with the file above)\nCreate text file with the author, title, and description in it\n\n<div class=\"tt-a\" usericon=\"http://a.deviantart.net/avatars/s/h/shad0w-gfx.gif\" collect_rid=\"1:19982524\">\n <span class=\"shad0w\" style=\"background-image: url (\"http://sh.deviantart.net/shad0w/x/107/150/logo3.png\");\">\n  <a class=\"t\" title=\"Shad0ws Blood Brush Set by ~Shad0w-GFX, Jun 28, 2005\" href=\"http://Shad0w-GFX.deviantart.com/art/Shad0ws-Blood-Brush-Set-19982524?q=boost%3Apopular+in%3Aresources%2Fapplications%2Fpsbrushes&qo-0\">Shad0ws Blood Brush Set</a>\n\n<a class=\"t\" ... >\n\ndivs = []\nclient = new WebClient(BrowserVersion.FIREFOX_3)\nclient.javaScriptEnabled = false\n\npage = client.getPage(\"http://browse.deviantart.com/resources/applications/psbrushes/?order=9&offset=0\")\n\ndivs = page.getByXPath(\"//html/body/div[2]/div/div/table/tbody/tr/td[2]/div/div[5]/div/div[2]/span/a[@class='t']\")\n\ndivs.each { println it }\n\n<?xml version=\"1.0\" encoding=\"UTF-8\"?><a href=\"http://Shad0w-GFX.deviantart.com/\n\n\n---------------------------------------------------------------------------------------\n@using (Html.BeginForm(\"SearchAffaires\", \"Search\", FormMethod.Post)) { \n\n    @Html.LabelFor(m => Model.SearchType)\n    @Html.DropDownListFor(m => Model.SearchType, Model.Type)\n\n    @Html.LabelFor(m => Model.SearchCriteriaAffaire.IdAffaire)\n    @Html.TextBoxFor(m => Model.SearchCriteriaAffaire.IdAffaire)\n\n\n    @Html.LabelFor(m => Model.SearchCriteriaAffaire.IdStatus)\n    @Html.DropDownListFor(m => Model.SearchCriteriaAffaire.IdStatus, Model.Status)\n\n    @Html.LabelFor(m => Model.SearchCriteriaAffaire.Title)\n    @Html.TextBoxFor(m => Model.SearchCriteriaAffaire.Title)\n\n    <input type=\"submit\" id=\"buttonSubmit\" value=\"Submit\" />\n    <input type=\"button\" id=\"buttonClear\" value=\"Clear\" />\n\n}\n\n\n/////////////////////////////////////////////////////////////////////////////////////////\n2 scripts python pris au hasard :\n---------------------------------------------------------------------------------------\nssh [hostname] [command]\n\n---------------------------------------------------------------------------------------\ncat data.txt | ./my_script.py\n./my_script.py data.txt\ngrep\nsys.argv\noptparse\nsys.stdin\nfileinput\nfileinput\nsys.stdin.readlines()\nstdin\nTrue\n\n/////////////////////////////////////////////////////////////////////////////////////////\n2 scripts C pris au hasard :\n---------------------------------------------------------------------------------------\ndouble input;\n\ndo {  /* do this as long as it not a double */\n  printf(\"Input?\");\n  scanf(\"%lf\", &input);\n} while(scanf(\"%lf\", &input) != 1); /* this will not work */\n\n\n---------------------------------------------------------------------------------------\nvoid function() {\n    int k;\n    { // is a possible to go to this address from arbitrary point in code?\n      int i, j;\n      k += j+i;\n    }\n}\n\n\n/////////////////////////////////////////////////////////////////////////////////////////\n2 scripts java pris au hasard :\n---------------------------------------------------------------------------------------\nclass Main {  \n   public static void main (String[] args){  \n     long value = 1024 * 1024 * 1024 * 80;  \n     System.out.println(Long.MAX_VALUE);  \n     System.out.println(value);  \n  }  \n}\n\nlong value = 1024 * 1024 * 1024 * 80L;\n\n---------------------------------------------------------------------------------------\npublic byte[] transform (byte[] input)\n{\n    if (input.length == 0)\n         return input;\n    IndexedByte[] bytes = new IndexedByte[input.length];\n    for (int i = 0; i < input.length; i++)\n    {\n        bytes[i] = new IndexedByte(input[i],i);\n    }\n    for (int i = 0; i < input.length -1; i++)\n    {\n        bytes[i].next = bytes[i+1];\n    }\n    bytes[input.length - 1].next = bytes[0];\n    Arrays.sort(bytes);\n\n    byte[] newBytes = new byte[input.length];\n    for (int i = 0; i < bytes.length; i++)\n        newBytes[i] = bytes[i].b;\n\n    int[] indexes = new int[input.length];\n    for (int i = 0; i < indexes.length; i++)\n        indexes[i] = (bytes[i].origIndex + (input.length - 1)) % input.length;\n    int x = 0;\n    String str = new String(input); \n    for (int i = 0; i < input.length; i++)\n    {\n        if (bytes[i].origIndex == 0)\n        {\n            x = i;\n            break;\n        }\n    }   \n            byte[] header = intToByteArray(x);\n    byte[] result = new byte[indexes.length+header.length];\n    for (int i = 0; i < header.length; i++)\n        result[i] = header[i];\n    for (int i = 0; i < indexes.length; i++)\n        result[i+header.length] = input[indexes[i]];\n    return result;\n}\n\n\n"
     ]
    }
   ],
   "source": [
    "print(\"2 scripts html pris au hasard :\")\n",
    "for i in range(2):\n",
    "    print(\"---------------------------------------------------------------------------------------\")\n",
    "    n = random.randint(1,12000)\n",
    "    print(scripts_html[n])\n",
    "    \n",
    "print(\"/////////////////////////////////////////////////////////////////////////////////////////\")\n",
    "\n",
    "print(\"2 scripts python pris au hasard :\")\n",
    "for i in range(2):\n",
    "    print(\"---------------------------------------------------------------------------------------\")\n",
    "    n = random.randint(1,12000)\n",
    "    print(scripts_python[n])\n",
    "\n",
    "print(\"/////////////////////////////////////////////////////////////////////////////////////////\")\n",
    "\n",
    "print(\"2 scripts C pris au hasard :\")\n",
    "for i in range(2):\n",
    "    print(\"---------------------------------------------------------------------------------------\")\n",
    "    n = random.randint(1,12000)\n",
    "    print(scripts_C[n])\n",
    "\n",
    "print(\"/////////////////////////////////////////////////////////////////////////////////////////\")\n",
    "\n",
    "print(\"2 scripts java pris au hasard :\")\n",
    "for i in range(2):\n",
    "    print(\"---------------------------------------------------------------------------------------\")\n",
    "    n = random.randint(1,12000)\n",
    "    print(scripts_java[n])"
   ]
  },
  {
   "cell_type": "markdown",
   "metadata": {},
   "source": [
    "On applique un filtre pour garder uniquement les scripts d'au moins 1024 caractères. \n",
    "\n",
    "Ensuite, on coupe le script de manière à garder les 1024 premiers caractères. \n",
    "\n",
    "Voici les fonctions adéquates pour effectuer cela :"
   ]
  },
  {
   "cell_type": "code",
   "execution_count": 6,
   "metadata": {},
   "outputs": [],
   "source": [
    "def filter_size(scripts, size_min): #garde les scripts de data qui font au moins size_min caracters\n",
    "    res = []\n",
    "    for script in scripts:\n",
    "        if(len(script)>=size_min):\n",
    "            res.append(script)\n",
    "    return res"
   ]
  },
  {
   "cell_type": "code",
   "execution_count": 7,
   "metadata": {},
   "outputs": [],
   "source": [
    "def keep_n_first_caracters(scripts,n): #garde les n premiers caractères de chaque script\n",
    "    res = []\n",
    "    for script in scripts:\n",
    "        res.append(script[:n])\n",
    "    return res"
   ]
  },
  {
   "cell_type": "markdown",
   "metadata": {},
   "source": [
    "On applique ces transformations à nos données puis on regarde le nombre de scripts restant et l'allure de quelques scripts tirès au hasard"
   ]
  },
  {
   "cell_type": "code",
   "execution_count": 8,
   "metadata": {},
   "outputs": [],
   "source": [
    "n = 1024\n",
    "html_filtre_and_cut = keep_n_first_caracters(filter_size(scripts_html,n),n)\n",
    "python_filtre_and_cut = keep_n_first_caracters(filter_size(scripts_python,n),n)\n",
    "C_filtre_and_cut = keep_n_first_caracters(filter_size(scripts_C,n),n)\n",
    "java_filtre_and_cut = keep_n_first_caracters(filter_size(scripts_java,n),n)"
   ]
  },
  {
   "cell_type": "code",
   "execution_count": 9,
   "metadata": {},
   "outputs": [
    {
     "output_type": "stream",
     "name": "stdout",
     "text": [
      "nombre de scripts restant :\nscripts html restant: 1568\nscripts python  restant: 1338\nscripts_C restant : 1720\nscripts_java restant : 2035\n"
     ]
    }
   ],
   "source": [
    "print(\"nombre de scripts restant :\")\n",
    "print(\"scripts html restant:\",len(html_filtre_and_cut))\n",
    "print(\"scripts python  restant:\",len(python_filtre_and_cut))\n",
    "print(\"scripts_C restant :\",len(C_filtre_and_cut))\n",
    "print(\"scripts_java restant :\",len(java_filtre_and_cut))"
   ]
  },
  {
   "cell_type": "markdown",
   "metadata": {},
   "source": [
    "Il nous reste aux alentours de 1500-2000 scripts par language : on estime que c'est convenable"
   ]
  },
  {
   "cell_type": "code",
   "execution_count": 10,
   "metadata": {},
   "outputs": [
    {
     "output_type": "stream",
     "name": "stdout",
     "text": [
      "script html de taille sup à 1024 pris au hasard coupé :\n\npublic class MyBimapTest extends Activity {\n/** Called when the activity is first created. */\n@Override\npublic void onCreate(Bundle savedInstanceState) {\n    super.onCreate(savedInstanceState);\n    setContentView(R.layout.main);\n\n    ImageView img1 = (ImageView) findViewById(R.id.ImageView01);\n\n    img1.setVisibility(View.INVISIBLE);\n    Drawable dra1 = img1.getDrawable();\n    Bitmap map1 = ((BitmapDrawable) dra1).getBitmap();\n    ImageView img2 = (ImageView) findViewById(R.id.ImageView02);\n    img2.setVisibility(View.INVISIBLE);\n    Drawable dra2 = img2.getDrawable();\n    Bitmap map2 = ((BitmapDrawable) dra2).getBitmap();\n\n    // ***\n    ByteArrayOutputStream baos = new ByteArrayOutputStream();\n    map1.compress(Bitmap.CompressFormat.JPEG, 100, baos);\n\n    byte[] b = baos.toByteArray();\n    String abc = Base64.encodeBytes(b);\n\n    byte[] byt = null;\n    try {\n        byt = Base64.decode(abc);\n    } catch (IOException e) {\n        // TODO Auto-generated catch block\n        e.printStackTrace();\n    }\n    map1 \n///////////////////////////////////////////////////////////////////////////////:\nscript python de taille sup à 1024 pris au hasard coupé :\n\nnumpy.array([12,0,0,0,3,0,0,1])\n\n{0:12, 4:3, 7:1}\n\nfrom timeit import Timer\n\nif __name__ == \"__main__\":\n  s = \"import numpy; from itertools import izip; from numpy import nonzero, flatnonzero; vector =         numpy.random.poisson(0.1, size=10000);\"\n\n  ms = [ \"f = flatnonzero(vector); dict( zip( f, vector[f] ) )\"\n             , \"f = flatnonzero(vector); dict( izip( f, vector[f] ) )\"\n             , \"f = nonzero(vector); dict( izip( f[0], vector[f] ) )\"\n             , \"n = vector > 0; i = numpy.arange(len(vector))[n]; v = vector[n]; dict(izip(i,v))\"\n             , \"i = flatnonzero(vector); v = vector[vector > 0]; dict(izip(i,v))\"\n             , \"dict( zip( flatnonzero(vector), vector[flatnonzero(vector)] ) )\"\n             , \"dict( zip( flatnonzero(vector), vector[nonzero(vector)] ) )\"\n             , \"dict( (i, x) for i,x in enumerate(vector) if x > 0);\"\n             ]\n  for m in ms:\n    print \"  %.2fs\" % Timer(m, s).timeit(1000), m\n\n   0.78s f = flatnonzero(vector); dict( zip( f, vector[f] ) )\n   0.73s f = flat\n///////////////////////////////////////////////////////////////////////////////:\nscript C de taille sup à 1024 pris au hasard coupé :\n\nstruct node* merge(struct node* a, struct node* b)\n{\n        struct node dummy;     \n\n        struct node* tail = &dummy; \n\n        dummy.next = NULL;\n        while(1)\n        {\n                if(a == NULL)\n                {\n                        tail->next = b;\n                        break;\n                }\n                else if (b == NULL)\n                {\n                        tail->next = a;\n                        break;\n                }\n                if (a->data <= b->data)\n                {\n                        MoveNode(&(tail->next), &a);\n                }\n                else\n                {\n                        MoveNode(&(tail->next), &b);\n                }\n                tail = tail->next;\n        }\n        return(dummy.next);\n} \n\nvoid MoveNode(struct node** destRef, struct node** sourceRef)\n{\n        struct node* newNode = *sourceRef;\n\n        *sourceRef = newNode->next;\n\n        newNode->next = *destRef;\n\n        *destRef = newNode;\n}\n\nstruct node* Merge(struct node* a, stru\n///////////////////////////////////////////////////////////////////////////////:\nscript java de taille sup à 1024 pris au hasard coupé :\n\n   Runtime.getRuntime().exec(\"C:/Program Files/OpenOffice.org 3/program/soffice.exe -accept=socket,host=localhost,port=8100;urp;StarOffice.ServiceManager\"); // oooUrlW - the url of soffice.exe\n              Thread.sleep(5000);\n\n              XComponentContext xLocalContext = com.sun.star.comp.helper.Bootstrap.createInitialComponentContext(null);\n              XMultiComponentFactory xLocalServiceManager = xLocalContext.getServiceManager();\n              Object urlResolver  = xLocalServiceManager.createInstanceWithContext(\"com.sun.star.bridge.UnoUrlResolver\",xLocalContext);\n              XUnoUrlResolver xUnoUrlResolver = (XUnoUrlResolver) UnoRuntime.queryInterface(XUnoUrlResolver.class,urlResolver);\n\n              Object initialObject = xUnoUrlResolver.resolve(\"uno:socket,host=localhost,port=8100;urp;StarOffice.ServiceManager\");\n              XPropertySet xPropertySet = (XPropertySet) UnoRuntime.queryInterface(XPropertySet.class,initialObject);\n              XComponentContext remoteContext = (XComponentContext)\n"
     ]
    }
   ],
   "source": [
    "print(\"script html de taille sup à 1024 pris au hasard coupé :\\n\")\n",
    "\n",
    "n = random.randint(1,len(html_filtre_and_cut))\n",
    "print(html_filtre_and_cut[n])\n",
    "\n",
    "print('///////////////////////////////////////////////////////////////////////////////:')\n",
    "print(\"script python de taille sup à 1024 pris au hasard coupé :\\n\")\n",
    "n = random.randint(1,len(python_filtre_and_cut))\n",
    "print(python_filtre_and_cut[n])\n",
    "\n",
    "print('///////////////////////////////////////////////////////////////////////////////:')\n",
    "print(\"script C de taille sup à 1024 pris au hasard coupé :\\n\")\n",
    "n = random.randint(1,len(C_filtre_and_cut))\n",
    "print(C_filtre_and_cut[n])\n",
    "    \n",
    "print('///////////////////////////////////////////////////////////////////////////////:')\n",
    "print(\"script java de taille sup à 1024 pris au hasard coupé :\\n\")\n",
    "n = random.randint(1,len(java_filtre_and_cut))\n",
    "print(java_filtre_and_cut[n])"
   ]
  },
  {
   "cell_type": "markdown",
   "metadata": {},
   "source": [
    "On met en forme tout cela dans un seul dataset labelisé. \n",
    "\n",
    "On crée directement les jeux d'entrainement et de test."
   ]
  },
  {
   "cell_type": "code",
   "execution_count": 11,
   "metadata": {},
   "outputs": [],
   "source": [
    "def compil(*languages):\n",
    "    data = []\n",
    "    labels = []\n",
    "    for scripts in languages:\n",
    "        for script in scripts[0]:\n",
    "            data.append(script)\n",
    "            labels.append(scripts[1])\n",
    "    X_train, X_test, Y_train, Y_test = train_test_split(data,labels,test_size=0.30)\n",
    "    Y_train=np.array(Y_train)\n",
    "    Y_test=np.array(Y_test)\n",
    "    return X_train, X_test, Y_train, Y_test"
   ]
  },
  {
   "cell_type": "code",
   "execution_count": 12,
   "metadata": {},
   "outputs": [],
   "source": [
    "html_with_label = [html_filtre_and_cut,'h']\n",
    "python_with_label = [python_filtre_and_cut,'p']\n",
    "C_with_label = [C_filtre_and_cut,'C']\n",
    "java_with_label = [java_filtre_and_cut,'j']\n",
    "\n",
    "X_train, X_test, Y_train, Y_test = compil(html_with_label, python_with_label, C_with_label, java_with_label)\n"
   ]
  },
  {
   "cell_type": "code",
   "execution_count": 13,
   "metadata": {},
   "outputs": [
    {
     "output_type": "stream",
     "name": "stdout",
     "text": [
      "taille dataset d'entrainement:  4662\ntaille dataset de test:  1999\n"
     ]
    }
   ],
   "source": [
    "print(\"taille dataset d'entrainement: \", len(X_train))\n",
    "print(\"taille dataset de test: \", len(X_test))"
   ]
  },
  {
   "cell_type": "markdown",
   "metadata": {},
   "source": [
    "On effectue maintenant le OneHotEncoding : on affecte à chaque caractère son nombre dans la tables ASCII (il y en a 101), puis on vectorise. Ainsi chaque script est représenté avec un array de taille 1024 *101"
   ]
  },
  {
   "cell_type": "code",
   "execution_count": 14,
   "metadata": {},
   "outputs": [],
   "source": [
    "def oneHotEncoding(samples):\n",
    "    characters = string.printable  # All printable ASCII characters.\n",
    "    token_index = dict(zip(characters, range(1, len(characters) + 1)))\n",
    "    max_length = 1024\n",
    "    results = np.zeros((len(samples), max_length, max(token_index.values()) + 1))\n",
    "    for i, sample in enumerate(samples):\n",
    "        for j, character in enumerate(sample[:max_length]):\n",
    "            index = token_index.get(character)\n",
    "            results[i, j, index] = 1.\n",
    "    return results"
   ]
  },
  {
   "cell_type": "code",
   "execution_count": 15,
   "metadata": {},
   "outputs": [],
   "source": [
    "X_train = oneHotEncoding(X_train)\n",
    "X_test = oneHotEncoding(X_test)"
   ]
  },
  {
   "cell_type": "markdown",
   "metadata": {},
   "source": [
    "X_train est de dimension (nombre de scripts)*(taille des scripts)*(nombre de caractères différents)"
   ]
  },
  {
   "cell_type": "markdown",
   "metadata": {},
   "source": [
    "Maintenant on fait une binarisation multilabel de Y"
   ]
  },
  {
   "cell_type": "code",
   "execution_count": 16,
   "metadata": {},
   "outputs": [
    {
     "output_type": "execute_result",
     "data": {
      "text/plain": [
       "MultiLabelBinarizer()"
      ]
     },
     "metadata": {},
     "execution_count": 16
    }
   ],
   "source": [
    "mlb = MultiLabelBinarizer()\n",
    "mlb.fit(['h','p','C','j'])"
   ]
  },
  {
   "cell_type": "code",
   "execution_count": 17,
   "metadata": {},
   "outputs": [],
   "source": [
    "Y_train = mlb.transform(Y_train)\n",
    "Y_test = mlb.transform(Y_test)"
   ]
  },
  {
   "cell_type": "code",
   "execution_count": 18,
   "metadata": {},
   "outputs": [
    {
     "output_type": "stream",
     "name": "stdout",
     "text": [
      "Classes : ['C' 'h' 'j' 'p']  pour C, html, java, python\nallure de Y_train :\n [[0 1 0 0]\n [0 0 0 1]\n [0 0 1 0]\n ...\n [1 0 0 0]\n [0 0 0 1]\n [0 0 1 0]]\n"
     ]
    }
   ],
   "source": [
    "print(\"Classes :\",mlb.classes_,' pour C, html, java, python')\n",
    "print(\"allure de Y_train :\\n\",Y_train)\n"
   ]
  },
  {
   "cell_type": "code",
   "execution_count": 19,
   "metadata": {},
   "outputs": [
    {
     "output_type": "stream",
     "name": "stdout",
     "text": [
      "représentation d'un script: [[0. 0. 0. ... 0. 0. 0.]\n [0. 0. 0. ... 0. 0. 0.]\n [0. 0. 0. ... 0. 0. 0.]\n ...\n [0. 0. 0. ... 0. 0. 0.]\n [0. 0. 0. ... 0. 0. 0.]\n [0. 0. 0. ... 0. 0. 0.]]\n"
     ]
    }
   ],
   "source": [
    "print(\"représentation d'un script:\",X_train[1,:,:])"
   ]
  },
  {
   "cell_type": "code",
   "execution_count": 30,
   "metadata": {},
   "outputs": [],
   "source": [
    "from sklearn.metrics import confusion_matrix\n",
    "import seaborn as sns; \n",
    "\n",
    "def confusion(Y_pred, Y_test, labels, name, no_diag=False):\n",
    "    Y_pred_arg = [labels[np.argmax(x)] for x in Y_pred]\n",
    "    Y_test_arg = [labels[np.argmax(x)] for x in Y_test]\n",
    "    conf = confusion_matrix(Y_test_arg, Y_pred_arg, labels=labels)\n",
    "    if(no_diag) : np.fill_diagonal(conf, 0)\n",
    "    sns.heatmap(conf, xticklabels=labels, yticklabels=labels,  cmap='coolwarm', annot=True, fmt=\"d\")\n",
    "\n",
    "    plt.title(f\"Matrice de confusion\\n{name}\")\n",
    "    plt.ylabel(\"vraies valeurs\")\n",
    "    plt.xlabel(\"prédictions\")\n",
    "\n",
    "\n",
    "    plt.savefig(f\"confusions/{name}.png\", facecolor=\"white\", transparent=False)\n",
    "\n",
    "    plt.show()"
   ]
  },
  {
   "cell_type": "markdown",
   "metadata": {},
   "source": [
    "# Création du modèle"
   ]
  },
  {
   "cell_type": "markdown",
   "metadata": {},
   "source": [
    "## Modèle de l'article"
   ]
  },
  {
   "cell_type": "code",
   "execution_count": 25,
   "metadata": {},
   "outputs": [],
   "source": [
    "n_in = 512\n",
    "n_out = 4\n",
    "p_dropout = 0.5\n",
    "prog_langs = [\"html\", \"python\", \"c\", \"java\"]\n",
    "\n",
    "BATCH_SIZE = 128\n",
    "EPOCHS = 3\n",
    "# LEARNING_RATE = 0.01\n",
    "MOMENTUM = 0.9"
   ]
  },
  {
   "cell_type": "code",
   "execution_count": 3,
   "metadata": {},
   "outputs": [
    {
     "name": "stderr",
     "output_type": "stream",
     "text": [
      "/home/nathan/.local/lib/python3.8/site-packages/sklearn/preprocessing/_label.py:994: UserWarning: unknown class(es) ['a', 'l', 'm', 'n', 'o', 't', 'v', 'y'] will be ignored\n",
      "  warnings.warn('unknown class(es) {0} will be ignored'\n"
     ]
    },
    {
     "data": {
      "text/plain": [
       "((9908, 512, 101), (9908, 4))"
      ]
     },
     "execution_count": 3,
     "metadata": {},
     "output_type": "execute_result"
    }
   ],
   "source": []
  },
  {
   "cell_type": "code",
   "execution_count": 22,
   "metadata": {},
   "outputs": [],
   "source": [
    "# alphabet = \"abcdefghijklmnopqrstuvwxyz0123456789-,;.!?:’’’/\\|_@#$%ˆ&*˜‘+-=<>()[]{}\"\n",
    "\n",
    "\n",
    "\n",
    "model_article = keras.models.Sequential()\n",
    "model_article.add(keras.layers.Conv1D(n_in, 7, activation='relu', input_shape=(n_in, 101)))\n",
    "model_article.add(keras.layers.MaxPool1D(3))\n",
    "model_article.add(keras.layers.Conv1D(n_in, 7, activation='relu', input_shape=(n_in, 101)))\n",
    "model_article.add(keras.layers.MaxPool1D(3))\n",
    "model_article.add(keras.layers.Conv1D(n_in, 3, activation='relu', input_shape=(n_in, 101)))\n",
    "model_article.add(keras.layers.Conv1D(n_in, 3, activation='relu', input_shape=(n_in, 101)))\n",
    "model_article.add(keras.layers.Conv1D(n_in, 3, activation='relu', input_shape=(n_in, 101)))\n",
    "model_article.add(keras.layers.Conv1D(n_in, 3, activation='relu', input_shape=(n_in, 101)))\n",
    "model_article.add(keras.layers.MaxPool1D(3))\n",
    "model_article.add(keras.layers.Flatten())\n",
    "model_article.add(keras.layers.Dense(2048, activation='relu'))\n",
    "model_article.add(keras.layers.Dropout(p_dropout, input_shape=(20, 101)))\n",
    "model_article.add(keras.layers.Dense(2048, activation='relu'))\n",
    "model_article.add(keras.layers.Dropout(p_dropout))\n",
    "model_article.add(keras.layers.Dense(n_out))\n",
    "\n"
   ]
  },
  {
   "cell_type": "code",
   "execution_count": 23,
   "metadata": {},
   "outputs": [
    {
     "name": "stdout",
     "output_type": "stream",
     "text": [
      "Model: \"sequential\"\n",
      "_________________________________________________________________\n",
      "Layer (type)                 Output Shape              Param #   \n",
      "=================================================================\n",
      "conv1d (Conv1D)              (None, 506, 512)          362496    \n",
      "_________________________________________________________________\n",
      "max_pooling1d (MaxPooling1D) (None, 168, 512)          0         \n",
      "_________________________________________________________________\n",
      "conv1d_1 (Conv1D)            (None, 162, 512)          1835520   \n",
      "_________________________________________________________________\n",
      "max_pooling1d_1 (MaxPooling1 (None, 54, 512)           0         \n",
      "_________________________________________________________________\n",
      "conv1d_2 (Conv1D)            (None, 52, 512)           786944    \n",
      "_________________________________________________________________\n",
      "conv1d_3 (Conv1D)            (None, 50, 512)           786944    \n",
      "_________________________________________________________________\n",
      "conv1d_4 (Conv1D)            (None, 48, 512)           786944    \n",
      "_________________________________________________________________\n",
      "conv1d_5 (Conv1D)            (None, 46, 512)           786944    \n",
      "_________________________________________________________________\n",
      "max_pooling1d_2 (MaxPooling1 (None, 15, 512)           0         \n",
      "_________________________________________________________________\n",
      "flatten (Flatten)            (None, 7680)              0         \n",
      "_________________________________________________________________\n",
      "dense (Dense)                (None, 2048)              15730688  \n",
      "_________________________________________________________________\n",
      "dropout (Dropout)            (None, 2048)              0         \n",
      "_________________________________________________________________\n",
      "dense_1 (Dense)              (None, 2048)              4196352   \n",
      "_________________________________________________________________\n",
      "dropout_1 (Dropout)          (None, 2048)              0         \n",
      "_________________________________________________________________\n",
      "dense_2 (Dense)              (None, 4)                 8196      \n",
      "=================================================================\n",
      "Total params: 25,281,028\n",
      "Trainable params: 25,281,028\n",
      "Non-trainable params: 0\n",
      "_________________________________________________________________\n"
     ]
    }
   ],
   "source": [
    "\n",
    "model_article.summary()"
   ]
  },
  {
   "cell_type": "code",
   "execution_count": 6,
   "metadata": {},
   "outputs": [],
   "source": [
    "model_article.compile(\n",
    "    optimizer = tf.keras.optimizers.SGD(momentum=0.9), \n",
    "    # optimizer = tf.keras.optimizers.SGD(learning_rate = LEARNING_RATE, momentum=0.9), \n",
    "    loss = tf.keras.losses.CategoricalCrossentropy(from_logits=True),\n",
    "    metrics = ['accuracy']\n",
    ")"
   ]
  },
  {
   "cell_type": "code",
   "execution_count": 7,
   "metadata": {},
   "outputs": [
    {
     "name": "stdout",
     "output_type": "stream",
     "text": [
      "Epoch 1/3\n",
      "55/55 [==============================] - 223s 4s/step - loss: 11.0737 - accuracy: 0.4150 - val_loss: 1.6529 - val_accuracy: 0.4692\n",
      "Epoch 2/3\n",
      "55/55 [==============================] - 240s 4s/step - loss: 1.6515 - accuracy: 0.4637 - val_loss: 1.6494 - val_accuracy: 0.4692\n",
      "Epoch 3/3\n",
      "55/55 [==============================] - 245s 4s/step - loss: 1.6569 - accuracy: 0.4637 - val_loss: 1.6432 - val_accuracy: 0.4692\n"
     ]
    },
    {
     "data": {
      "text/plain": [
       "<tensorflow.python.keras.callbacks.History at 0x7ff6ec4ff4f0>"
      ]
     },
     "execution_count": 7,
     "metadata": {},
     "output_type": "execute_result"
    }
   ],
   "source": [
    "model_article.fit(X_train, Y_train, epochs=EPOCHS, batch_size = BATCH_SIZE, validation_split=0.3)"
   ]
  },
  {
   "cell_type": "code",
   "execution_count": 24,
   "metadata": {},
   "outputs": [],
   "source": [
    "# model_article.save('models/model_article_3ep_512.h5')"
   ]
  },
  {
   "cell_type": "code",
   "execution_count": 21,
   "metadata": {},
   "outputs": [],
   "source": [
    "name = \"model_article_3ep_1024\""
   ]
  },
  {
   "cell_type": "code",
   "execution_count": 22,
   "metadata": {},
   "outputs": [],
   "source": [
    "model_article = keras.models.load_model(f\"models/{name}.h5\")"
   ]
  },
  {
   "cell_type": "code",
   "execution_count": 23,
   "metadata": {},
   "outputs": [],
   "source": [
    "Y_pred = model_article.predict(X_test)"
   ]
  },
  {
   "cell_type": "code",
   "execution_count": 31,
   "metadata": {},
   "outputs": [
    {
     "output_type": "display_data",
     "data": {
      "text/plain": "<Figure size 432x288 with 2 Axes>",
      "image/svg+xml": "<?xml version=\"1.0\" encoding=\"utf-8\" standalone=\"no\"?>\n<!DOCTYPE svg PUBLIC \"-//W3C//DTD SVG 1.1//EN\"\n  \"http://www.w3.org/Graphics/SVG/1.1/DTD/svg11.dtd\">\n<!-- Created with matplotlib (https://matplotlib.org/) -->\n<svg height=\"291.15175pt\" version=\"1.1\" viewBox=\"0 0 366.29575 291.15175\" width=\"366.29575pt\" xmlns=\"http://www.w3.org/2000/svg\" xmlns:xlink=\"http://www.w3.org/1999/xlink\">\n <metadata>\n  <rdf:RDF xmlns:cc=\"http://creativecommons.org/ns#\" xmlns:dc=\"http://purl.org/dc/elements/1.1/\" xmlns:rdf=\"http://www.w3.org/1999/02/22-rdf-syntax-ns#\">\n   <cc:Work>\n    <dc:type rdf:resource=\"http://purl.org/dc/dcmitype/StillImage\"/>\n    <dc:date>2021-05-19T02:24:02.132941</dc:date>\n    <dc:format>image/svg+xml</dc:format>\n    <dc:creator>\n     <cc:Agent>\n      <dc:title>Matplotlib v3.3.2, https://matplotlib.org/</dc:title>\n     </cc:Agent>\n    </dc:creator>\n   </cc:Work>\n  </rdf:RDF>\n </metadata>\n <defs>\n  <style type=\"text/css\">*{stroke-linecap:butt;stroke-linejoin:round;}</style>\n </defs>\n <g id=\"figure_1\">\n  <g id=\"patch_1\">\n   <path d=\"M 0 291.15175 \nL 366.29575 291.15175 \nL 366.29575 0 \nL 0 0 \nz\n\" style=\"fill:none;\"/>\n  </g>\n  <g id=\"axes_1\">\n   <g id=\"patch_2\">\n    <path d=\"M 37.55625 253.1955 \nL 305.39625 253.1955 \nL 305.39625 35.7555 \nL 37.55625 35.7555 \nz\n\" style=\"fill:#ffffff;\"/>\n   </g>\n   <g id=\"QuadMesh_1\">\n    <path clip-path=\"url(#pc92c9aeebc)\" d=\"M 37.55625 35.7555 \nL 104.51625 35.7555 \nL 104.51625 90.1155 \nL 37.55625 90.1155 \nL 37.55625 35.7555 \n\" style=\"fill:#3b4cc0;\"/>\n    <path clip-path=\"url(#pc92c9aeebc)\" d=\"M 104.51625 35.7555 \nL 171.47625 35.7555 \nL 171.47625 90.1155 \nL 104.51625 90.1155 \nL 104.51625 35.7555 \n\" style=\"fill:#3b4cc0;\"/>\n    <path clip-path=\"url(#pc92c9aeebc)\" d=\"M 171.47625 35.7555 \nL 238.43625 35.7555 \nL 238.43625 90.1155 \nL 171.47625 90.1155 \nL 171.47625 35.7555 \n\" style=\"fill:#ec7f63;\"/>\n    <path clip-path=\"url(#pc92c9aeebc)\" d=\"M 238.43625 35.7555 \nL 305.39625 35.7555 \nL 305.39625 90.1155 \nL 238.43625 90.1155 \nL 238.43625 35.7555 \n\" style=\"fill:#3b4cc0;\"/>\n    <path clip-path=\"url(#pc92c9aeebc)\" d=\"M 37.55625 90.1155 \nL 104.51625 90.1155 \nL 104.51625 144.4755 \nL 37.55625 144.4755 \nL 37.55625 90.1155 \n\" style=\"fill:#3b4cc0;\"/>\n    <path clip-path=\"url(#pc92c9aeebc)\" d=\"M 104.51625 90.1155 \nL 171.47625 90.1155 \nL 171.47625 144.4755 \nL 104.51625 144.4755 \nL 104.51625 90.1155 \n\" style=\"fill:#3b4cc0;\"/>\n    <path clip-path=\"url(#pc92c9aeebc)\" d=\"M 171.47625 90.1155 \nL 238.43625 90.1155 \nL 238.43625 144.4755 \nL 171.47625 144.4755 \nL 171.47625 90.1155 \n\" style=\"fill:#ef886b;\"/>\n    <path clip-path=\"url(#pc92c9aeebc)\" d=\"M 238.43625 90.1155 \nL 305.39625 90.1155 \nL 305.39625 144.4755 \nL 238.43625 144.4755 \nL 238.43625 90.1155 \n\" style=\"fill:#3b4cc0;\"/>\n    <path clip-path=\"url(#pc92c9aeebc)\" d=\"M 37.55625 144.4755 \nL 104.51625 144.4755 \nL 104.51625 198.8355 \nL 37.55625 198.8355 \nL 37.55625 144.4755 \n\" style=\"fill:#3b4cc0;\"/>\n    <path clip-path=\"url(#pc92c9aeebc)\" d=\"M 104.51625 144.4755 \nL 171.47625 144.4755 \nL 171.47625 198.8355 \nL 104.51625 198.8355 \nL 104.51625 144.4755 \n\" style=\"fill:#3b4cc0;\"/>\n    <path clip-path=\"url(#pc92c9aeebc)\" d=\"M 171.47625 144.4755 \nL 238.43625 144.4755 \nL 238.43625 198.8355 \nL 171.47625 198.8355 \nL 171.47625 144.4755 \n\" style=\"fill:#b40426;\"/>\n    <path clip-path=\"url(#pc92c9aeebc)\" d=\"M 238.43625 144.4755 \nL 305.39625 144.4755 \nL 305.39625 198.8355 \nL 238.43625 198.8355 \nL 238.43625 144.4755 \n\" style=\"fill:#3b4cc0;\"/>\n    <path clip-path=\"url(#pc92c9aeebc)\" d=\"M 37.55625 198.8355 \nL 104.51625 198.8355 \nL 104.51625 253.1955 \nL 37.55625 253.1955 \nL 37.55625 198.8355 \n\" style=\"fill:#3b4cc0;\"/>\n    <path clip-path=\"url(#pc92c9aeebc)\" d=\"M 104.51625 198.8355 \nL 171.47625 198.8355 \nL 171.47625 253.1955 \nL 104.51625 253.1955 \nL 104.51625 198.8355 \n\" style=\"fill:#3b4cc0;\"/>\n    <path clip-path=\"url(#pc92c9aeebc)\" d=\"M 171.47625 198.8355 \nL 238.43625 198.8355 \nL 238.43625 253.1955 \nL 171.47625 253.1955 \nL 171.47625 198.8355 \n\" style=\"fill:#f7b599;\"/>\n    <path clip-path=\"url(#pc92c9aeebc)\" d=\"M 238.43625 198.8355 \nL 305.39625 198.8355 \nL 305.39625 253.1955 \nL 238.43625 253.1955 \nL 238.43625 198.8355 \n\" style=\"fill:#3b4cc0;\"/>\n   </g>\n   <g id=\"matplotlib.axis_1\">\n    <g id=\"xtick_1\">\n     <g id=\"line2d_1\">\n      <defs>\n       <path d=\"M 0 0 \nL 0 3.5 \n\" id=\"m413caf6b3b\" style=\"stroke:#000000;stroke-width:0.8;\"/>\n      </defs>\n      <g>\n       <use style=\"stroke:#000000;stroke-width:0.8;\" x=\"71.03625\" xlink:href=\"#m413caf6b3b\" y=\"253.1955\"/>\n      </g>\n     </g>\n     <g id=\"text_1\">\n      <!-- html -->\n      <g transform=\"translate(59.647969 267.793937)scale(0.1 -0.1)\">\n       <defs>\n        <path d=\"M 54.890625 33.015625 \nL 54.890625 0 \nL 45.90625 0 \nL 45.90625 32.71875 \nQ 45.90625 40.484375 42.875 44.328125 \nQ 39.84375 48.1875 33.796875 48.1875 \nQ 26.515625 48.1875 22.3125 43.546875 \nQ 18.109375 38.921875 18.109375 30.90625 \nL 18.109375 0 \nL 9.078125 0 \nL 9.078125 75.984375 \nL 18.109375 75.984375 \nL 18.109375 46.1875 \nQ 21.34375 51.125 25.703125 53.5625 \nQ 30.078125 56 35.796875 56 \nQ 45.21875 56 50.046875 50.171875 \nQ 54.890625 44.34375 54.890625 33.015625 \nz\n\" id=\"DejaVuSans-104\"/>\n        <path d=\"M 18.3125 70.21875 \nL 18.3125 54.6875 \nL 36.8125 54.6875 \nL 36.8125 47.703125 \nL 18.3125 47.703125 \nL 18.3125 18.015625 \nQ 18.3125 11.328125 20.140625 9.421875 \nQ 21.96875 7.515625 27.59375 7.515625 \nL 36.8125 7.515625 \nL 36.8125 0 \nL 27.59375 0 \nQ 17.1875 0 13.234375 3.875 \nQ 9.28125 7.765625 9.28125 18.015625 \nL 9.28125 47.703125 \nL 2.6875 47.703125 \nL 2.6875 54.6875 \nL 9.28125 54.6875 \nL 9.28125 70.21875 \nz\n\" id=\"DejaVuSans-116\"/>\n        <path d=\"M 52 44.1875 \nQ 55.375 50.25 60.0625 53.125 \nQ 64.75 56 71.09375 56 \nQ 79.640625 56 84.28125 50.015625 \nQ 88.921875 44.046875 88.921875 33.015625 \nL 88.921875 0 \nL 79.890625 0 \nL 79.890625 32.71875 \nQ 79.890625 40.578125 77.09375 44.375 \nQ 74.3125 48.1875 68.609375 48.1875 \nQ 61.625 48.1875 57.5625 43.546875 \nQ 53.515625 38.921875 53.515625 30.90625 \nL 53.515625 0 \nL 44.484375 0 \nL 44.484375 32.71875 \nQ 44.484375 40.625 41.703125 44.40625 \nQ 38.921875 48.1875 33.109375 48.1875 \nQ 26.21875 48.1875 22.15625 43.53125 \nQ 18.109375 38.875 18.109375 30.90625 \nL 18.109375 0 \nL 9.078125 0 \nL 9.078125 54.6875 \nL 18.109375 54.6875 \nL 18.109375 46.1875 \nQ 21.1875 51.21875 25.484375 53.609375 \nQ 29.78125 56 35.6875 56 \nQ 41.65625 56 45.828125 52.96875 \nQ 50 49.953125 52 44.1875 \nz\n\" id=\"DejaVuSans-109\"/>\n        <path d=\"M 9.421875 75.984375 \nL 18.40625 75.984375 \nL 18.40625 0 \nL 9.421875 0 \nz\n\" id=\"DejaVuSans-108\"/>\n       </defs>\n       <use xlink:href=\"#DejaVuSans-104\"/>\n       <use x=\"63.378906\" xlink:href=\"#DejaVuSans-116\"/>\n       <use x=\"102.587891\" xlink:href=\"#DejaVuSans-109\"/>\n       <use x=\"200\" xlink:href=\"#DejaVuSans-108\"/>\n      </g>\n     </g>\n    </g>\n    <g id=\"xtick_2\">\n     <g id=\"line2d_2\">\n      <g>\n       <use style=\"stroke:#000000;stroke-width:0.8;\" x=\"137.99625\" xlink:href=\"#m413caf6b3b\" y=\"253.1955\"/>\n      </g>\n     </g>\n     <g id=\"text_2\">\n      <!-- python -->\n      <g transform=\"translate(120.505625 267.793937)scale(0.1 -0.1)\">\n       <defs>\n        <path d=\"M 18.109375 8.203125 \nL 18.109375 -20.796875 \nL 9.078125 -20.796875 \nL 9.078125 54.6875 \nL 18.109375 54.6875 \nL 18.109375 46.390625 \nQ 20.953125 51.265625 25.265625 53.625 \nQ 29.59375 56 35.59375 56 \nQ 45.5625 56 51.78125 48.09375 \nQ 58.015625 40.1875 58.015625 27.296875 \nQ 58.015625 14.40625 51.78125 6.484375 \nQ 45.5625 -1.421875 35.59375 -1.421875 \nQ 29.59375 -1.421875 25.265625 0.953125 \nQ 20.953125 3.328125 18.109375 8.203125 \nz\nM 48.6875 27.296875 \nQ 48.6875 37.203125 44.609375 42.84375 \nQ 40.53125 48.484375 33.40625 48.484375 \nQ 26.265625 48.484375 22.1875 42.84375 \nQ 18.109375 37.203125 18.109375 27.296875 \nQ 18.109375 17.390625 22.1875 11.75 \nQ 26.265625 6.109375 33.40625 6.109375 \nQ 40.53125 6.109375 44.609375 11.75 \nQ 48.6875 17.390625 48.6875 27.296875 \nz\n\" id=\"DejaVuSans-112\"/>\n        <path d=\"M 32.171875 -5.078125 \nQ 28.375 -14.84375 24.75 -17.8125 \nQ 21.140625 -20.796875 15.09375 -20.796875 \nL 7.90625 -20.796875 \nL 7.90625 -13.28125 \nL 13.1875 -13.28125 \nQ 16.890625 -13.28125 18.9375 -11.515625 \nQ 21 -9.765625 23.484375 -3.21875 \nL 25.09375 0.875 \nL 2.984375 54.6875 \nL 12.5 54.6875 \nL 29.59375 11.921875 \nL 46.6875 54.6875 \nL 56.203125 54.6875 \nz\n\" id=\"DejaVuSans-121\"/>\n        <path d=\"M 30.609375 48.390625 \nQ 23.390625 48.390625 19.1875 42.75 \nQ 14.984375 37.109375 14.984375 27.296875 \nQ 14.984375 17.484375 19.15625 11.84375 \nQ 23.34375 6.203125 30.609375 6.203125 \nQ 37.796875 6.203125 41.984375 11.859375 \nQ 46.1875 17.53125 46.1875 27.296875 \nQ 46.1875 37.015625 41.984375 42.703125 \nQ 37.796875 48.390625 30.609375 48.390625 \nz\nM 30.609375 56 \nQ 42.328125 56 49.015625 48.375 \nQ 55.71875 40.765625 55.71875 27.296875 \nQ 55.71875 13.875 49.015625 6.21875 \nQ 42.328125 -1.421875 30.609375 -1.421875 \nQ 18.84375 -1.421875 12.171875 6.21875 \nQ 5.515625 13.875 5.515625 27.296875 \nQ 5.515625 40.765625 12.171875 48.375 \nQ 18.84375 56 30.609375 56 \nz\n\" id=\"DejaVuSans-111\"/>\n        <path d=\"M 54.890625 33.015625 \nL 54.890625 0 \nL 45.90625 0 \nL 45.90625 32.71875 \nQ 45.90625 40.484375 42.875 44.328125 \nQ 39.84375 48.1875 33.796875 48.1875 \nQ 26.515625 48.1875 22.3125 43.546875 \nQ 18.109375 38.921875 18.109375 30.90625 \nL 18.109375 0 \nL 9.078125 0 \nL 9.078125 54.6875 \nL 18.109375 54.6875 \nL 18.109375 46.1875 \nQ 21.34375 51.125 25.703125 53.5625 \nQ 30.078125 56 35.796875 56 \nQ 45.21875 56 50.046875 50.171875 \nQ 54.890625 44.34375 54.890625 33.015625 \nz\n\" id=\"DejaVuSans-110\"/>\n       </defs>\n       <use xlink:href=\"#DejaVuSans-112\"/>\n       <use x=\"63.476562\" xlink:href=\"#DejaVuSans-121\"/>\n       <use x=\"122.65625\" xlink:href=\"#DejaVuSans-116\"/>\n       <use x=\"161.865234\" xlink:href=\"#DejaVuSans-104\"/>\n       <use x=\"225.244141\" xlink:href=\"#DejaVuSans-111\"/>\n       <use x=\"286.425781\" xlink:href=\"#DejaVuSans-110\"/>\n      </g>\n     </g>\n    </g>\n    <g id=\"xtick_3\">\n     <g id=\"line2d_3\">\n      <g>\n       <use style=\"stroke:#000000;stroke-width:0.8;\" x=\"204.95625\" xlink:href=\"#m413caf6b3b\" y=\"253.1955\"/>\n      </g>\n     </g>\n     <g id=\"text_3\">\n      <!-- c -->\n      <g transform=\"translate(202.207031 267.793937)scale(0.1 -0.1)\">\n       <defs>\n        <path d=\"M 48.78125 52.59375 \nL 48.78125 44.1875 \nQ 44.96875 46.296875 41.140625 47.34375 \nQ 37.3125 48.390625 33.40625 48.390625 \nQ 24.65625 48.390625 19.8125 42.84375 \nQ 14.984375 37.3125 14.984375 27.296875 \nQ 14.984375 17.28125 19.8125 11.734375 \nQ 24.65625 6.203125 33.40625 6.203125 \nQ 37.3125 6.203125 41.140625 7.25 \nQ 44.96875 8.296875 48.78125 10.40625 \nL 48.78125 2.09375 \nQ 45.015625 0.34375 40.984375 -0.53125 \nQ 36.96875 -1.421875 32.421875 -1.421875 \nQ 20.0625 -1.421875 12.78125 6.34375 \nQ 5.515625 14.109375 5.515625 27.296875 \nQ 5.515625 40.671875 12.859375 48.328125 \nQ 20.21875 56 33.015625 56 \nQ 37.15625 56 41.109375 55.140625 \nQ 45.0625 54.296875 48.78125 52.59375 \nz\n\" id=\"DejaVuSans-99\"/>\n       </defs>\n       <use xlink:href=\"#DejaVuSans-99\"/>\n      </g>\n     </g>\n    </g>\n    <g id=\"xtick_4\">\n     <g id=\"line2d_4\">\n      <g>\n       <use style=\"stroke:#000000;stroke-width:0.8;\" x=\"271.91625\" xlink:href=\"#m413caf6b3b\" y=\"253.1955\"/>\n      </g>\n     </g>\n     <g id=\"text_4\">\n      <!-- java -->\n      <g transform=\"translate(261.439687 267.793937)scale(0.1 -0.1)\">\n       <defs>\n        <path d=\"M 9.421875 54.6875 \nL 18.40625 54.6875 \nL 18.40625 -0.984375 \nQ 18.40625 -11.421875 14.421875 -16.109375 \nQ 10.453125 -20.796875 1.609375 -20.796875 \nL -1.8125 -20.796875 \nL -1.8125 -13.1875 \nL 0.59375 -13.1875 \nQ 5.71875 -13.1875 7.5625 -10.8125 \nQ 9.421875 -8.453125 9.421875 -0.984375 \nz\nM 9.421875 75.984375 \nL 18.40625 75.984375 \nL 18.40625 64.59375 \nL 9.421875 64.59375 \nz\n\" id=\"DejaVuSans-106\"/>\n        <path d=\"M 34.28125 27.484375 \nQ 23.390625 27.484375 19.1875 25 \nQ 14.984375 22.515625 14.984375 16.5 \nQ 14.984375 11.71875 18.140625 8.90625 \nQ 21.296875 6.109375 26.703125 6.109375 \nQ 34.1875 6.109375 38.703125 11.40625 \nQ 43.21875 16.703125 43.21875 25.484375 \nL 43.21875 27.484375 \nz\nM 52.203125 31.203125 \nL 52.203125 0 \nL 43.21875 0 \nL 43.21875 8.296875 \nQ 40.140625 3.328125 35.546875 0.953125 \nQ 30.953125 -1.421875 24.3125 -1.421875 \nQ 15.921875 -1.421875 10.953125 3.296875 \nQ 6 8.015625 6 15.921875 \nQ 6 25.140625 12.171875 29.828125 \nQ 18.359375 34.515625 30.609375 34.515625 \nL 43.21875 34.515625 \nL 43.21875 35.40625 \nQ 43.21875 41.609375 39.140625 45 \nQ 35.0625 48.390625 27.6875 48.390625 \nQ 23 48.390625 18.546875 47.265625 \nQ 14.109375 46.140625 10.015625 43.890625 \nL 10.015625 52.203125 \nQ 14.9375 54.109375 19.578125 55.046875 \nQ 24.21875 56 28.609375 56 \nQ 40.484375 56 46.34375 49.84375 \nQ 52.203125 43.703125 52.203125 31.203125 \nz\n\" id=\"DejaVuSans-97\"/>\n        <path d=\"M 2.984375 54.6875 \nL 12.5 54.6875 \nL 29.59375 8.796875 \nL 46.6875 54.6875 \nL 56.203125 54.6875 \nL 35.6875 0 \nL 23.484375 0 \nz\n\" id=\"DejaVuSans-118\"/>\n       </defs>\n       <use xlink:href=\"#DejaVuSans-106\"/>\n       <use x=\"27.783203\" xlink:href=\"#DejaVuSans-97\"/>\n       <use x=\"89.0625\" xlink:href=\"#DejaVuSans-118\"/>\n       <use x=\"148.242188\" xlink:href=\"#DejaVuSans-97\"/>\n      </g>\n     </g>\n    </g>\n    <g id=\"text_5\">\n     <!-- prédictions -->\n     <g transform=\"translate(143.787969 281.872062)scale(0.1 -0.1)\">\n      <defs>\n       <path d=\"M 41.109375 46.296875 \nQ 39.59375 47.171875 37.8125 47.578125 \nQ 36.03125 48 33.890625 48 \nQ 26.265625 48 22.1875 43.046875 \nQ 18.109375 38.09375 18.109375 28.8125 \nL 18.109375 0 \nL 9.078125 0 \nL 9.078125 54.6875 \nL 18.109375 54.6875 \nL 18.109375 46.1875 \nQ 20.953125 51.171875 25.484375 53.578125 \nQ 30.03125 56 36.53125 56 \nQ 37.453125 56 38.578125 55.875 \nQ 39.703125 55.765625 41.0625 55.515625 \nz\n\" id=\"DejaVuSans-114\"/>\n       <path d=\"M 56.203125 29.59375 \nL 56.203125 25.203125 \nL 14.890625 25.203125 \nQ 15.484375 15.921875 20.484375 11.0625 \nQ 25.484375 6.203125 34.421875 6.203125 \nQ 39.59375 6.203125 44.453125 7.46875 \nQ 49.3125 8.734375 54.109375 11.28125 \nL 54.109375 2.78125 \nQ 49.265625 0.734375 44.1875 -0.34375 \nQ 39.109375 -1.421875 33.890625 -1.421875 \nQ 20.796875 -1.421875 13.15625 6.1875 \nQ 5.515625 13.8125 5.515625 26.8125 \nQ 5.515625 40.234375 12.765625 48.109375 \nQ 20.015625 56 32.328125 56 \nQ 43.359375 56 49.78125 48.890625 \nQ 56.203125 41.796875 56.203125 29.59375 \nz\nM 47.21875 32.234375 \nQ 47.125 39.59375 43.09375 43.984375 \nQ 39.0625 48.390625 32.421875 48.390625 \nQ 24.90625 48.390625 20.390625 44.140625 \nQ 15.875 39.890625 15.1875 32.171875 \nz\nM 38.53125 79.984375 \nL 48.25 79.984375 \nL 32.34375 61.625 \nL 24.859375 61.625 \nz\n\" id=\"DejaVuSans-233\"/>\n       <path d=\"M 45.40625 46.390625 \nL 45.40625 75.984375 \nL 54.390625 75.984375 \nL 54.390625 0 \nL 45.40625 0 \nL 45.40625 8.203125 \nQ 42.578125 3.328125 38.25 0.953125 \nQ 33.9375 -1.421875 27.875 -1.421875 \nQ 17.96875 -1.421875 11.734375 6.484375 \nQ 5.515625 14.40625 5.515625 27.296875 \nQ 5.515625 40.1875 11.734375 48.09375 \nQ 17.96875 56 27.875 56 \nQ 33.9375 56 38.25 53.625 \nQ 42.578125 51.265625 45.40625 46.390625 \nz\nM 14.796875 27.296875 \nQ 14.796875 17.390625 18.875 11.75 \nQ 22.953125 6.109375 30.078125 6.109375 \nQ 37.203125 6.109375 41.296875 11.75 \nQ 45.40625 17.390625 45.40625 27.296875 \nQ 45.40625 37.203125 41.296875 42.84375 \nQ 37.203125 48.484375 30.078125 48.484375 \nQ 22.953125 48.484375 18.875 42.84375 \nQ 14.796875 37.203125 14.796875 27.296875 \nz\n\" id=\"DejaVuSans-100\"/>\n       <path d=\"M 9.421875 54.6875 \nL 18.40625 54.6875 \nL 18.40625 0 \nL 9.421875 0 \nz\nM 9.421875 75.984375 \nL 18.40625 75.984375 \nL 18.40625 64.59375 \nL 9.421875 64.59375 \nz\n\" id=\"DejaVuSans-105\"/>\n       <path d=\"M 44.28125 53.078125 \nL 44.28125 44.578125 \nQ 40.484375 46.53125 36.375 47.5 \nQ 32.28125 48.484375 27.875 48.484375 \nQ 21.1875 48.484375 17.84375 46.4375 \nQ 14.5 44.390625 14.5 40.28125 \nQ 14.5 37.15625 16.890625 35.375 \nQ 19.28125 33.59375 26.515625 31.984375 \nL 29.59375 31.296875 \nQ 39.15625 29.25 43.1875 25.515625 \nQ 47.21875 21.78125 47.21875 15.09375 \nQ 47.21875 7.46875 41.1875 3.015625 \nQ 35.15625 -1.421875 24.609375 -1.421875 \nQ 20.21875 -1.421875 15.453125 -0.5625 \nQ 10.6875 0.296875 5.421875 2 \nL 5.421875 11.28125 \nQ 10.40625 8.6875 15.234375 7.390625 \nQ 20.0625 6.109375 24.8125 6.109375 \nQ 31.15625 6.109375 34.5625 8.28125 \nQ 37.984375 10.453125 37.984375 14.40625 \nQ 37.984375 18.0625 35.515625 20.015625 \nQ 33.0625 21.96875 24.703125 23.78125 \nL 21.578125 24.515625 \nQ 13.234375 26.265625 9.515625 29.90625 \nQ 5.8125 33.546875 5.8125 39.890625 \nQ 5.8125 47.609375 11.28125 51.796875 \nQ 16.75 56 26.8125 56 \nQ 31.78125 56 36.171875 55.265625 \nQ 40.578125 54.546875 44.28125 53.078125 \nz\n\" id=\"DejaVuSans-115\"/>\n      </defs>\n      <use xlink:href=\"#DejaVuSans-112\"/>\n      <use x=\"63.476562\" xlink:href=\"#DejaVuSans-114\"/>\n      <use x=\"102.339844\" xlink:href=\"#DejaVuSans-233\"/>\n      <use x=\"163.863281\" xlink:href=\"#DejaVuSans-100\"/>\n      <use x=\"227.339844\" xlink:href=\"#DejaVuSans-105\"/>\n      <use x=\"255.123047\" xlink:href=\"#DejaVuSans-99\"/>\n      <use x=\"310.103516\" xlink:href=\"#DejaVuSans-116\"/>\n      <use x=\"349.3125\" xlink:href=\"#DejaVuSans-105\"/>\n      <use x=\"377.095703\" xlink:href=\"#DejaVuSans-111\"/>\n      <use x=\"438.277344\" xlink:href=\"#DejaVuSans-110\"/>\n      <use x=\"501.65625\" xlink:href=\"#DejaVuSans-115\"/>\n     </g>\n    </g>\n   </g>\n   <g id=\"matplotlib.axis_2\">\n    <g id=\"ytick_1\">\n     <g id=\"line2d_5\">\n      <defs>\n       <path d=\"M 0 0 \nL -3.5 0 \n\" id=\"m56c46e7d17\" style=\"stroke:#000000;stroke-width:0.8;\"/>\n      </defs>\n      <g>\n       <use style=\"stroke:#000000;stroke-width:0.8;\" x=\"37.55625\" xlink:href=\"#m56c46e7d17\" y=\"62.9355\"/>\n      </g>\n     </g>\n     <g id=\"text_6\">\n      <!-- html -->\n      <g transform=\"translate(28.476563 81.912844)rotate(-90)scale(0.1 -0.1)\">\n       <use xlink:href=\"#DejaVuSans-104\"/>\n       <use x=\"63.378906\" xlink:href=\"#DejaVuSans-116\"/>\n       <use x=\"102.587891\" xlink:href=\"#DejaVuSans-109\"/>\n       <use x=\"200\" xlink:href=\"#DejaVuSans-108\"/>\n      </g>\n     </g>\n    </g>\n    <g id=\"ytick_2\">\n     <g id=\"line2d_6\">\n      <g>\n       <use style=\"stroke:#000000;stroke-width:0.8;\" x=\"37.55625\" xlink:href=\"#m56c46e7d17\" y=\"117.2955\"/>\n      </g>\n     </g>\n     <g id=\"text_7\">\n      <!-- python -->\n      <g transform=\"translate(28.476563 148.477531)rotate(-90)scale(0.1 -0.1)\">\n       <use xlink:href=\"#DejaVuSans-112\"/>\n       <use x=\"63.476562\" xlink:href=\"#DejaVuSans-121\"/>\n       <use x=\"122.65625\" xlink:href=\"#DejaVuSans-116\"/>\n       <use x=\"161.865234\" xlink:href=\"#DejaVuSans-104\"/>\n       <use x=\"225.244141\" xlink:href=\"#DejaVuSans-111\"/>\n       <use x=\"286.425781\" xlink:href=\"#DejaVuSans-110\"/>\n      </g>\n     </g>\n    </g>\n    <g id=\"ytick_3\">\n     <g id=\"line2d_7\">\n      <g>\n       <use style=\"stroke:#000000;stroke-width:0.8;\" x=\"37.55625\" xlink:href=\"#m56c46e7d17\" y=\"171.6555\"/>\n      </g>\n     </g>\n     <g id=\"text_8\">\n      <!-- c -->\n      <g transform=\"translate(28.476563 173.354719)rotate(-90)scale(0.1 -0.1)\">\n       <use xlink:href=\"#DejaVuSans-99\"/>\n      </g>\n     </g>\n    </g>\n    <g id=\"ytick_4\">\n     <g id=\"line2d_8\">\n      <g>\n       <use style=\"stroke:#000000;stroke-width:0.8;\" x=\"37.55625\" xlink:href=\"#m56c46e7d17\" y=\"226.0155\"/>\n      </g>\n     </g>\n     <g id=\"text_9\">\n      <!-- java -->\n      <g transform=\"translate(28.476563 243.169406)rotate(-90)scale(0.1 -0.1)\">\n       <use xlink:href=\"#DejaVuSans-106\"/>\n       <use x=\"27.783203\" xlink:href=\"#DejaVuSans-97\"/>\n       <use x=\"89.0625\" xlink:href=\"#DejaVuSans-118\"/>\n       <use x=\"148.242188\" xlink:href=\"#DejaVuSans-97\"/>\n      </g>\n     </g>\n    </g>\n    <g id=\"text_10\">\n     <!-- vraies valeurs -->\n     <g transform=\"translate(14.798438 179.53175)rotate(-90)scale(0.1 -0.1)\">\n      <defs>\n       <path d=\"M 56.203125 29.59375 \nL 56.203125 25.203125 \nL 14.890625 25.203125 \nQ 15.484375 15.921875 20.484375 11.0625 \nQ 25.484375 6.203125 34.421875 6.203125 \nQ 39.59375 6.203125 44.453125 7.46875 \nQ 49.3125 8.734375 54.109375 11.28125 \nL 54.109375 2.78125 \nQ 49.265625 0.734375 44.1875 -0.34375 \nQ 39.109375 -1.421875 33.890625 -1.421875 \nQ 20.796875 -1.421875 13.15625 6.1875 \nQ 5.515625 13.8125 5.515625 26.8125 \nQ 5.515625 40.234375 12.765625 48.109375 \nQ 20.015625 56 32.328125 56 \nQ 43.359375 56 49.78125 48.890625 \nQ 56.203125 41.796875 56.203125 29.59375 \nz\nM 47.21875 32.234375 \nQ 47.125 39.59375 43.09375 43.984375 \nQ 39.0625 48.390625 32.421875 48.390625 \nQ 24.90625 48.390625 20.390625 44.140625 \nQ 15.875 39.890625 15.1875 32.171875 \nz\n\" id=\"DejaVuSans-101\"/>\n       <path id=\"DejaVuSans-32\"/>\n       <path d=\"M 8.5 21.578125 \nL 8.5 54.6875 \nL 17.484375 54.6875 \nL 17.484375 21.921875 \nQ 17.484375 14.15625 20.5 10.265625 \nQ 23.53125 6.390625 29.59375 6.390625 \nQ 36.859375 6.390625 41.078125 11.03125 \nQ 45.3125 15.671875 45.3125 23.6875 \nL 45.3125 54.6875 \nL 54.296875 54.6875 \nL 54.296875 0 \nL 45.3125 0 \nL 45.3125 8.40625 \nQ 42.046875 3.421875 37.71875 1 \nQ 33.40625 -1.421875 27.6875 -1.421875 \nQ 18.265625 -1.421875 13.375 4.4375 \nQ 8.5 10.296875 8.5 21.578125 \nz\nM 31.109375 56 \nz\n\" id=\"DejaVuSans-117\"/>\n      </defs>\n      <use xlink:href=\"#DejaVuSans-118\"/>\n      <use x=\"59.179688\" xlink:href=\"#DejaVuSans-114\"/>\n      <use x=\"100.292969\" xlink:href=\"#DejaVuSans-97\"/>\n      <use x=\"161.572266\" xlink:href=\"#DejaVuSans-105\"/>\n      <use x=\"189.355469\" xlink:href=\"#DejaVuSans-101\"/>\n      <use x=\"250.878906\" xlink:href=\"#DejaVuSans-115\"/>\n      <use x=\"302.978516\" xlink:href=\"#DejaVuSans-32\"/>\n      <use x=\"334.765625\" xlink:href=\"#DejaVuSans-118\"/>\n      <use x=\"393.945312\" xlink:href=\"#DejaVuSans-97\"/>\n      <use x=\"455.224609\" xlink:href=\"#DejaVuSans-108\"/>\n      <use x=\"483.007812\" xlink:href=\"#DejaVuSans-101\"/>\n      <use x=\"544.53125\" xlink:href=\"#DejaVuSans-117\"/>\n      <use x=\"607.910156\" xlink:href=\"#DejaVuSans-114\"/>\n      <use x=\"649.023438\" xlink:href=\"#DejaVuSans-115\"/>\n     </g>\n    </g>\n   </g>\n   <g id=\"text_11\">\n    <!-- 0 -->\n    <g style=\"fill:#ffffff;\" transform=\"translate(67.855 65.694875)scale(0.1 -0.1)\">\n     <defs>\n      <path d=\"M 31.78125 66.40625 \nQ 24.171875 66.40625 20.328125 58.90625 \nQ 16.5 51.421875 16.5 36.375 \nQ 16.5 21.390625 20.328125 13.890625 \nQ 24.171875 6.390625 31.78125 6.390625 \nQ 39.453125 6.390625 43.28125 13.890625 \nQ 47.125 21.390625 47.125 36.375 \nQ 47.125 51.421875 43.28125 58.90625 \nQ 39.453125 66.40625 31.78125 66.40625 \nz\nM 31.78125 74.21875 \nQ 44.046875 74.21875 50.515625 64.515625 \nQ 56.984375 54.828125 56.984375 36.375 \nQ 56.984375 17.96875 50.515625 8.265625 \nQ 44.046875 -1.421875 31.78125 -1.421875 \nQ 19.53125 -1.421875 13.0625 8.265625 \nQ 6.59375 17.96875 6.59375 36.375 \nQ 6.59375 54.828125 13.0625 64.515625 \nQ 19.53125 74.21875 31.78125 74.21875 \nz\n\" id=\"DejaVuSans-48\"/>\n     </defs>\n     <use xlink:href=\"#DejaVuSans-48\"/>\n    </g>\n   </g>\n   <g id=\"text_12\">\n    <!-- 0 -->\n    <g style=\"fill:#ffffff;\" transform=\"translate(134.815 65.694875)scale(0.1 -0.1)\">\n     <use xlink:href=\"#DejaVuSans-48\"/>\n    </g>\n   </g>\n   <g id=\"text_13\">\n    <!-- 494 -->\n    <g style=\"fill:#ffffff;\" transform=\"translate(195.4125 65.694875)scale(0.1 -0.1)\">\n     <defs>\n      <path d=\"M 37.796875 64.3125 \nL 12.890625 25.390625 \nL 37.796875 25.390625 \nz\nM 35.203125 72.90625 \nL 47.609375 72.90625 \nL 47.609375 25.390625 \nL 58.015625 25.390625 \nL 58.015625 17.1875 \nL 47.609375 17.1875 \nL 47.609375 0 \nL 37.796875 0 \nL 37.796875 17.1875 \nL 4.890625 17.1875 \nL 4.890625 26.703125 \nz\n\" id=\"DejaVuSans-52\"/>\n      <path d=\"M 10.984375 1.515625 \nL 10.984375 10.5 \nQ 14.703125 8.734375 18.5 7.8125 \nQ 22.3125 6.890625 25.984375 6.890625 \nQ 35.75 6.890625 40.890625 13.453125 \nQ 46.046875 20.015625 46.78125 33.40625 \nQ 43.953125 29.203125 39.59375 26.953125 \nQ 35.25 24.703125 29.984375 24.703125 \nQ 19.046875 24.703125 12.671875 31.3125 \nQ 6.296875 37.9375 6.296875 49.421875 \nQ 6.296875 60.640625 12.9375 67.421875 \nQ 19.578125 74.21875 30.609375 74.21875 \nQ 43.265625 74.21875 49.921875 64.515625 \nQ 56.59375 54.828125 56.59375 36.375 \nQ 56.59375 19.140625 48.40625 8.859375 \nQ 40.234375 -1.421875 26.421875 -1.421875 \nQ 22.703125 -1.421875 18.890625 -0.6875 \nQ 15.09375 0.046875 10.984375 1.515625 \nz\nM 30.609375 32.421875 \nQ 37.25 32.421875 41.125 36.953125 \nQ 45.015625 41.5 45.015625 49.421875 \nQ 45.015625 57.28125 41.125 61.84375 \nQ 37.25 66.40625 30.609375 66.40625 \nQ 23.96875 66.40625 20.09375 61.84375 \nQ 16.21875 57.28125 16.21875 49.421875 \nQ 16.21875 41.5 20.09375 36.953125 \nQ 23.96875 32.421875 30.609375 32.421875 \nz\n\" id=\"DejaVuSans-57\"/>\n     </defs>\n     <use xlink:href=\"#DejaVuSans-52\"/>\n     <use x=\"63.623047\" xlink:href=\"#DejaVuSans-57\"/>\n     <use x=\"127.246094\" xlink:href=\"#DejaVuSans-52\"/>\n    </g>\n   </g>\n   <g id=\"text_14\">\n    <!-- 0 -->\n    <g style=\"fill:#ffffff;\" transform=\"translate(268.735 65.694875)scale(0.1 -0.1)\">\n     <use xlink:href=\"#DejaVuSans-48\"/>\n    </g>\n   </g>\n   <g id=\"text_15\">\n    <!-- 0 -->\n    <g style=\"fill:#ffffff;\" transform=\"translate(67.855 120.054875)scale(0.1 -0.1)\">\n     <use xlink:href=\"#DejaVuSans-48\"/>\n    </g>\n   </g>\n   <g id=\"text_16\">\n    <!-- 0 -->\n    <g style=\"fill:#ffffff;\" transform=\"translate(134.815 120.054875)scale(0.1 -0.1)\">\n     <use xlink:href=\"#DejaVuSans-48\"/>\n    </g>\n   </g>\n   <g id=\"text_17\">\n    <!-- 483 -->\n    <g style=\"fill:#ffffff;\" transform=\"translate(195.4125 120.054875)scale(0.1 -0.1)\">\n     <defs>\n      <path d=\"M 31.78125 34.625 \nQ 24.75 34.625 20.71875 30.859375 \nQ 16.703125 27.09375 16.703125 20.515625 \nQ 16.703125 13.921875 20.71875 10.15625 \nQ 24.75 6.390625 31.78125 6.390625 \nQ 38.8125 6.390625 42.859375 10.171875 \nQ 46.921875 13.96875 46.921875 20.515625 \nQ 46.921875 27.09375 42.890625 30.859375 \nQ 38.875 34.625 31.78125 34.625 \nz\nM 21.921875 38.8125 \nQ 15.578125 40.375 12.03125 44.71875 \nQ 8.5 49.078125 8.5 55.328125 \nQ 8.5 64.0625 14.71875 69.140625 \nQ 20.953125 74.21875 31.78125 74.21875 \nQ 42.671875 74.21875 48.875 69.140625 \nQ 55.078125 64.0625 55.078125 55.328125 \nQ 55.078125 49.078125 51.53125 44.71875 \nQ 48 40.375 41.703125 38.8125 \nQ 48.828125 37.15625 52.796875 32.3125 \nQ 56.78125 27.484375 56.78125 20.515625 \nQ 56.78125 9.90625 50.3125 4.234375 \nQ 43.84375 -1.421875 31.78125 -1.421875 \nQ 19.734375 -1.421875 13.25 4.234375 \nQ 6.78125 9.90625 6.78125 20.515625 \nQ 6.78125 27.484375 10.78125 32.3125 \nQ 14.796875 37.15625 21.921875 38.8125 \nz\nM 18.3125 54.390625 \nQ 18.3125 48.734375 21.84375 45.5625 \nQ 25.390625 42.390625 31.78125 42.390625 \nQ 38.140625 42.390625 41.71875 45.5625 \nQ 45.3125 48.734375 45.3125 54.390625 \nQ 45.3125 60.0625 41.71875 63.234375 \nQ 38.140625 66.40625 31.78125 66.40625 \nQ 25.390625 66.40625 21.84375 63.234375 \nQ 18.3125 60.0625 18.3125 54.390625 \nz\n\" id=\"DejaVuSans-56\"/>\n      <path d=\"M 40.578125 39.3125 \nQ 47.65625 37.796875 51.625 33 \nQ 55.609375 28.21875 55.609375 21.1875 \nQ 55.609375 10.40625 48.1875 4.484375 \nQ 40.765625 -1.421875 27.09375 -1.421875 \nQ 22.515625 -1.421875 17.65625 -0.515625 \nQ 12.796875 0.390625 7.625 2.203125 \nL 7.625 11.71875 \nQ 11.71875 9.328125 16.59375 8.109375 \nQ 21.484375 6.890625 26.8125 6.890625 \nQ 36.078125 6.890625 40.9375 10.546875 \nQ 45.796875 14.203125 45.796875 21.1875 \nQ 45.796875 27.640625 41.28125 31.265625 \nQ 36.765625 34.90625 28.71875 34.90625 \nL 20.21875 34.90625 \nL 20.21875 43.015625 \nL 29.109375 43.015625 \nQ 36.375 43.015625 40.234375 45.921875 \nQ 44.09375 48.828125 44.09375 54.296875 \nQ 44.09375 59.90625 40.109375 62.90625 \nQ 36.140625 65.921875 28.71875 65.921875 \nQ 24.65625 65.921875 20.015625 65.03125 \nQ 15.375 64.15625 9.8125 62.3125 \nL 9.8125 71.09375 \nQ 15.4375 72.65625 20.34375 73.4375 \nQ 25.25 74.21875 29.59375 74.21875 \nQ 40.828125 74.21875 47.359375 69.109375 \nQ 53.90625 64.015625 53.90625 55.328125 \nQ 53.90625 49.265625 50.4375 45.09375 \nQ 46.96875 40.921875 40.578125 39.3125 \nz\n\" id=\"DejaVuSans-51\"/>\n     </defs>\n     <use xlink:href=\"#DejaVuSans-52\"/>\n     <use x=\"63.623047\" xlink:href=\"#DejaVuSans-56\"/>\n     <use x=\"127.246094\" xlink:href=\"#DejaVuSans-51\"/>\n    </g>\n   </g>\n   <g id=\"text_18\">\n    <!-- 0 -->\n    <g style=\"fill:#ffffff;\" transform=\"translate(268.735 120.054875)scale(0.1 -0.1)\">\n     <use xlink:href=\"#DejaVuSans-48\"/>\n    </g>\n   </g>\n   <g id=\"text_19\">\n    <!-- 0 -->\n    <g style=\"fill:#ffffff;\" transform=\"translate(67.855 174.414875)scale(0.1 -0.1)\">\n     <use xlink:href=\"#DejaVuSans-48\"/>\n    </g>\n   </g>\n   <g id=\"text_20\">\n    <!-- 0 -->\n    <g style=\"fill:#ffffff;\" transform=\"translate(134.815 174.414875)scale(0.1 -0.1)\">\n     <use xlink:href=\"#DejaVuSans-48\"/>\n    </g>\n   </g>\n   <g id=\"text_21\">\n    <!-- 610 -->\n    <g style=\"fill:#ffffff;\" transform=\"translate(195.4125 174.414875)scale(0.1 -0.1)\">\n     <defs>\n      <path d=\"M 33.015625 40.375 \nQ 26.375 40.375 22.484375 35.828125 \nQ 18.609375 31.296875 18.609375 23.390625 \nQ 18.609375 15.53125 22.484375 10.953125 \nQ 26.375 6.390625 33.015625 6.390625 \nQ 39.65625 6.390625 43.53125 10.953125 \nQ 47.40625 15.53125 47.40625 23.390625 \nQ 47.40625 31.296875 43.53125 35.828125 \nQ 39.65625 40.375 33.015625 40.375 \nz\nM 52.59375 71.296875 \nL 52.59375 62.3125 \nQ 48.875 64.0625 45.09375 64.984375 \nQ 41.3125 65.921875 37.59375 65.921875 \nQ 27.828125 65.921875 22.671875 59.328125 \nQ 17.53125 52.734375 16.796875 39.40625 \nQ 19.671875 43.65625 24.015625 45.921875 \nQ 28.375 48.1875 33.59375 48.1875 \nQ 44.578125 48.1875 50.953125 41.515625 \nQ 57.328125 34.859375 57.328125 23.390625 \nQ 57.328125 12.15625 50.6875 5.359375 \nQ 44.046875 -1.421875 33.015625 -1.421875 \nQ 20.359375 -1.421875 13.671875 8.265625 \nQ 6.984375 17.96875 6.984375 36.375 \nQ 6.984375 53.65625 15.1875 63.9375 \nQ 23.390625 74.21875 37.203125 74.21875 \nQ 40.921875 74.21875 44.703125 73.484375 \nQ 48.484375 72.75 52.59375 71.296875 \nz\n\" id=\"DejaVuSans-54\"/>\n      <path d=\"M 12.40625 8.296875 \nL 28.515625 8.296875 \nL 28.515625 63.921875 \nL 10.984375 60.40625 \nL 10.984375 69.390625 \nL 28.421875 72.90625 \nL 38.28125 72.90625 \nL 38.28125 8.296875 \nL 54.390625 8.296875 \nL 54.390625 0 \nL 12.40625 0 \nz\n\" id=\"DejaVuSans-49\"/>\n     </defs>\n     <use xlink:href=\"#DejaVuSans-54\"/>\n     <use x=\"63.623047\" xlink:href=\"#DejaVuSans-49\"/>\n     <use x=\"127.246094\" xlink:href=\"#DejaVuSans-48\"/>\n    </g>\n   </g>\n   <g id=\"text_22\">\n    <!-- 0 -->\n    <g style=\"fill:#ffffff;\" transform=\"translate(268.735 174.414875)scale(0.1 -0.1)\">\n     <use xlink:href=\"#DejaVuSans-48\"/>\n    </g>\n   </g>\n   <g id=\"text_23\">\n    <!-- 0 -->\n    <g style=\"fill:#ffffff;\" transform=\"translate(67.855 228.774875)scale(0.1 -0.1)\">\n     <use xlink:href=\"#DejaVuSans-48\"/>\n    </g>\n   </g>\n   <g id=\"text_24\">\n    <!-- 0 -->\n    <g style=\"fill:#ffffff;\" transform=\"translate(134.815 228.774875)scale(0.1 -0.1)\">\n     <use xlink:href=\"#DejaVuSans-48\"/>\n    </g>\n   </g>\n   <g id=\"text_25\">\n    <!-- 412 -->\n    <g style=\"fill:#262626;\" transform=\"translate(195.4125 228.774875)scale(0.1 -0.1)\">\n     <defs>\n      <path d=\"M 19.1875 8.296875 \nL 53.609375 8.296875 \nL 53.609375 0 \nL 7.328125 0 \nL 7.328125 8.296875 \nQ 12.9375 14.109375 22.625 23.890625 \nQ 32.328125 33.6875 34.8125 36.53125 \nQ 39.546875 41.84375 41.421875 45.53125 \nQ 43.3125 49.21875 43.3125 52.78125 \nQ 43.3125 58.59375 39.234375 62.25 \nQ 35.15625 65.921875 28.609375 65.921875 \nQ 23.96875 65.921875 18.8125 64.3125 \nQ 13.671875 62.703125 7.8125 59.421875 \nL 7.8125 69.390625 \nQ 13.765625 71.78125 18.9375 73 \nQ 24.125 74.21875 28.421875 74.21875 \nQ 39.75 74.21875 46.484375 68.546875 \nQ 53.21875 62.890625 53.21875 53.421875 \nQ 53.21875 48.921875 51.53125 44.890625 \nQ 49.859375 40.875 45.40625 35.40625 \nQ 44.1875 33.984375 37.640625 27.21875 \nQ 31.109375 20.453125 19.1875 8.296875 \nz\n\" id=\"DejaVuSans-50\"/>\n     </defs>\n     <use xlink:href=\"#DejaVuSans-52\"/>\n     <use x=\"63.623047\" xlink:href=\"#DejaVuSans-49\"/>\n     <use x=\"127.246094\" xlink:href=\"#DejaVuSans-50\"/>\n    </g>\n   </g>\n   <g id=\"text_26\">\n    <!-- 0 -->\n    <g style=\"fill:#ffffff;\" transform=\"translate(268.735 228.774875)scale(0.1 -0.1)\">\n     <use xlink:href=\"#DejaVuSans-48\"/>\n    </g>\n   </g>\n   <g id=\"text_27\">\n    <!-- Matrice de confusion -->\n    <g transform=\"translate(108.8775 16.318125)scale(0.12 -0.12)\">\n     <defs>\n      <path d=\"M 9.8125 72.90625 \nL 24.515625 72.90625 \nL 43.109375 23.296875 \nL 61.8125 72.90625 \nL 76.515625 72.90625 \nL 76.515625 0 \nL 66.890625 0 \nL 66.890625 64.015625 \nL 48.09375 14.015625 \nL 38.1875 14.015625 \nL 19.390625 64.015625 \nL 19.390625 0 \nL 9.8125 0 \nz\n\" id=\"DejaVuSans-77\"/>\n      <path d=\"M 37.109375 75.984375 \nL 37.109375 68.5 \nL 28.515625 68.5 \nQ 23.6875 68.5 21.796875 66.546875 \nQ 19.921875 64.59375 19.921875 59.515625 \nL 19.921875 54.6875 \nL 34.71875 54.6875 \nL 34.71875 47.703125 \nL 19.921875 47.703125 \nL 19.921875 0 \nL 10.890625 0 \nL 10.890625 47.703125 \nL 2.296875 47.703125 \nL 2.296875 54.6875 \nL 10.890625 54.6875 \nL 10.890625 58.5 \nQ 10.890625 67.625 15.140625 71.796875 \nQ 19.390625 75.984375 28.609375 75.984375 \nz\n\" id=\"DejaVuSans-102\"/>\n     </defs>\n     <use xlink:href=\"#DejaVuSans-77\"/>\n     <use x=\"86.279297\" xlink:href=\"#DejaVuSans-97\"/>\n     <use x=\"147.558594\" xlink:href=\"#DejaVuSans-116\"/>\n     <use x=\"186.767578\" xlink:href=\"#DejaVuSans-114\"/>\n     <use x=\"227.880859\" xlink:href=\"#DejaVuSans-105\"/>\n     <use x=\"255.664062\" xlink:href=\"#DejaVuSans-99\"/>\n     <use x=\"310.644531\" xlink:href=\"#DejaVuSans-101\"/>\n     <use x=\"372.167969\" xlink:href=\"#DejaVuSans-32\"/>\n     <use x=\"403.955078\" xlink:href=\"#DejaVuSans-100\"/>\n     <use x=\"467.431641\" xlink:href=\"#DejaVuSans-101\"/>\n     <use x=\"528.955078\" xlink:href=\"#DejaVuSans-32\"/>\n     <use x=\"560.742188\" xlink:href=\"#DejaVuSans-99\"/>\n     <use x=\"615.722656\" xlink:href=\"#DejaVuSans-111\"/>\n     <use x=\"676.904297\" xlink:href=\"#DejaVuSans-110\"/>\n     <use x=\"740.283203\" xlink:href=\"#DejaVuSans-102\"/>\n     <use x=\"775.488281\" xlink:href=\"#DejaVuSans-117\"/>\n     <use x=\"838.867188\" xlink:href=\"#DejaVuSans-115\"/>\n     <use x=\"890.966797\" xlink:href=\"#DejaVuSans-105\"/>\n     <use x=\"918.75\" xlink:href=\"#DejaVuSans-111\"/>\n     <use x=\"979.931641\" xlink:href=\"#DejaVuSans-110\"/>\n    </g>\n    <!-- model_article_3ep_1024 -->\n    <g transform=\"translate(98.384063 29.7555)scale(0.12 -0.12)\">\n     <defs>\n      <path d=\"M 50.984375 -16.609375 \nL 50.984375 -23.578125 \nL -0.984375 -23.578125 \nL -0.984375 -16.609375 \nz\n\" id=\"DejaVuSans-95\"/>\n     </defs>\n     <use xlink:href=\"#DejaVuSans-109\"/>\n     <use x=\"97.412109\" xlink:href=\"#DejaVuSans-111\"/>\n     <use x=\"158.59375\" xlink:href=\"#DejaVuSans-100\"/>\n     <use x=\"222.070312\" xlink:href=\"#DejaVuSans-101\"/>\n     <use x=\"283.59375\" xlink:href=\"#DejaVuSans-108\"/>\n     <use x=\"311.376953\" xlink:href=\"#DejaVuSans-95\"/>\n     <use x=\"361.376953\" xlink:href=\"#DejaVuSans-97\"/>\n     <use x=\"422.65625\" xlink:href=\"#DejaVuSans-114\"/>\n     <use x=\"463.769531\" xlink:href=\"#DejaVuSans-116\"/>\n     <use x=\"502.978516\" xlink:href=\"#DejaVuSans-105\"/>\n     <use x=\"530.761719\" xlink:href=\"#DejaVuSans-99\"/>\n     <use x=\"585.742188\" xlink:href=\"#DejaVuSans-108\"/>\n     <use x=\"613.525391\" xlink:href=\"#DejaVuSans-101\"/>\n     <use x=\"675.048828\" xlink:href=\"#DejaVuSans-95\"/>\n     <use x=\"725.048828\" xlink:href=\"#DejaVuSans-51\"/>\n     <use x=\"788.671875\" xlink:href=\"#DejaVuSans-101\"/>\n     <use x=\"850.195312\" xlink:href=\"#DejaVuSans-112\"/>\n     <use x=\"913.671875\" xlink:href=\"#DejaVuSans-95\"/>\n     <use x=\"963.671875\" xlink:href=\"#DejaVuSans-49\"/>\n     <use x=\"1027.294922\" xlink:href=\"#DejaVuSans-48\"/>\n     <use x=\"1090.917969\" xlink:href=\"#DejaVuSans-50\"/>\n     <use x=\"1154.541016\" xlink:href=\"#DejaVuSans-52\"/>\n    </g>\n   </g>\n  </g>\n  <g id=\"axes_2\">\n   <g id=\"patch_3\">\n    <path clip-path=\"url(#pfe69cb7333)\" d=\"M 322.13625 253.1955 \nL 322.13625 252.346125 \nL 322.13625 36.604875 \nL 322.13625 35.7555 \nL 333.00825 35.7555 \nL 333.00825 36.604875 \nL 333.00825 252.346125 \nL 333.00825 253.1955 \nz\n\" style=\"fill:#ffffff;stroke:#ffffff;stroke-linejoin:miter;stroke-width:0.01;\"/>\n   </g>\n   <image height=\"217\" id=\"imagefd5cdaac5a\" transform=\"scale(1 -1)translate(0 -217)\" width=\"11\" x=\"322\" xlink:href=\"data:image/png;base64,\niVBORw0KGgoAAAANSUhEUgAAAAsAAADZCAYAAAD2WsoCAAABY0lEQVR4nNWWwQ3DMAwDLTljdYYO3aX6aGx1Bd/jACVvgSBPlJF4vT81Dr8rMk5nxxWRYBgpJ1Cec3awgZRTQ5cajUQ0AnEGw+a6UfkROqt1OcmwFhCWnwxfVuva0DiehTQQZ1j+41mT85w9DpbQYG8de5+JDdYNoMxaR9DBdQNldIPipTAaYJhVFF0KUwbDXkDPs2cj8/gvvlFA4Jl1A711w7IBOQMbU0OHbLCAGucZW1JGNFBAdt0oIONMPB+PyujQujUbGmdoowUNbzjHAsooYGkByzrYLEJDs8HQeTQ2oUEuZfQIGCggskECDqbcggby7K1bLBKisS3PsBtEed+acgsaTHkBGky5CY31vD6PDZRLo1EeDU0ZeS7WDWvdhZS1gMyGFpC1jihv7SnwApZ2VvtGAXvQQMpa+U0alo31a7LuJ9Jo0Y29yPBNyo+UybAXsJa2bsaZeP61UF5f0A3Nxh9BpyZOO1d/HQAAAABJRU5ErkJggg==\" y=\"-36\"/>\n   <g id=\"matplotlib.axis_3\"/>\n   <g id=\"matplotlib.axis_4\">\n    <g id=\"ytick_5\">\n     <g id=\"line2d_9\">\n      <defs>\n       <path d=\"M 0 0 \nL 3.5 0 \n\" id=\"m76bee6a719\" style=\"stroke:#000000;stroke-width:0.8;\"/>\n      </defs>\n      <g>\n       <use style=\"stroke:#000000;stroke-width:0.8;\" x=\"333.00825\" xlink:href=\"#m76bee6a719\" y=\"253.1955\"/>\n      </g>\n     </g>\n     <g id=\"text_28\">\n      <!-- 0 -->\n      <g transform=\"translate(340.00825 256.994719)scale(0.1 -0.1)\">\n       <use xlink:href=\"#DejaVuSans-48\"/>\n      </g>\n     </g>\n    </g>\n    <g id=\"ytick_6\">\n     <g id=\"line2d_10\">\n      <g>\n       <use style=\"stroke:#000000;stroke-width:0.8;\" x=\"333.00825\" xlink:href=\"#m76bee6a719\" y=\"217.549598\"/>\n      </g>\n     </g>\n     <g id=\"text_29\">\n      <!-- 100 -->\n      <g transform=\"translate(340.00825 221.348817)scale(0.1 -0.1)\">\n       <use xlink:href=\"#DejaVuSans-49\"/>\n       <use x=\"63.623047\" xlink:href=\"#DejaVuSans-48\"/>\n       <use x=\"127.246094\" xlink:href=\"#DejaVuSans-48\"/>\n      </g>\n     </g>\n    </g>\n    <g id=\"ytick_7\">\n     <g id=\"line2d_11\">\n      <g>\n       <use style=\"stroke:#000000;stroke-width:0.8;\" x=\"333.00825\" xlink:href=\"#m76bee6a719\" y=\"181.903697\"/>\n      </g>\n     </g>\n     <g id=\"text_30\">\n      <!-- 200 -->\n      <g transform=\"translate(340.00825 185.702915)scale(0.1 -0.1)\">\n       <use xlink:href=\"#DejaVuSans-50\"/>\n       <use x=\"63.623047\" xlink:href=\"#DejaVuSans-48\"/>\n       <use x=\"127.246094\" xlink:href=\"#DejaVuSans-48\"/>\n      </g>\n     </g>\n    </g>\n    <g id=\"ytick_8\">\n     <g id=\"line2d_12\">\n      <g>\n       <use style=\"stroke:#000000;stroke-width:0.8;\" x=\"333.00825\" xlink:href=\"#m76bee6a719\" y=\"146.257795\"/>\n      </g>\n     </g>\n     <g id=\"text_31\">\n      <!-- 300 -->\n      <g transform=\"translate(340.00825 150.057014)scale(0.1 -0.1)\">\n       <use xlink:href=\"#DejaVuSans-51\"/>\n       <use x=\"63.623047\" xlink:href=\"#DejaVuSans-48\"/>\n       <use x=\"127.246094\" xlink:href=\"#DejaVuSans-48\"/>\n      </g>\n     </g>\n    </g>\n    <g id=\"ytick_9\">\n     <g id=\"line2d_13\">\n      <g>\n       <use style=\"stroke:#000000;stroke-width:0.8;\" x=\"333.00825\" xlink:href=\"#m76bee6a719\" y=\"110.611893\"/>\n      </g>\n     </g>\n     <g id=\"text_32\">\n      <!-- 400 -->\n      <g transform=\"translate(340.00825 114.411112)scale(0.1 -0.1)\">\n       <use xlink:href=\"#DejaVuSans-52\"/>\n       <use x=\"63.623047\" xlink:href=\"#DejaVuSans-48\"/>\n       <use x=\"127.246094\" xlink:href=\"#DejaVuSans-48\"/>\n      </g>\n     </g>\n    </g>\n    <g id=\"ytick_10\">\n     <g id=\"line2d_14\">\n      <g>\n       <use style=\"stroke:#000000;stroke-width:0.8;\" x=\"333.00825\" xlink:href=\"#m76bee6a719\" y=\"74.965992\"/>\n      </g>\n     </g>\n     <g id=\"text_33\">\n      <!-- 500 -->\n      <g transform=\"translate(340.00825 78.765211)scale(0.1 -0.1)\">\n       <defs>\n        <path d=\"M 10.796875 72.90625 \nL 49.515625 72.90625 \nL 49.515625 64.59375 \nL 19.828125 64.59375 \nL 19.828125 46.734375 \nQ 21.96875 47.46875 24.109375 47.828125 \nQ 26.265625 48.1875 28.421875 48.1875 \nQ 40.625 48.1875 47.75 41.5 \nQ 54.890625 34.8125 54.890625 23.390625 \nQ 54.890625 11.625 47.5625 5.09375 \nQ 40.234375 -1.421875 26.90625 -1.421875 \nQ 22.3125 -1.421875 17.546875 -0.640625 \nQ 12.796875 0.140625 7.71875 1.703125 \nL 7.71875 11.625 \nQ 12.109375 9.234375 16.796875 8.0625 \nQ 21.484375 6.890625 26.703125 6.890625 \nQ 35.15625 6.890625 40.078125 11.328125 \nQ 45.015625 15.765625 45.015625 23.390625 \nQ 45.015625 31 40.078125 35.4375 \nQ 35.15625 39.890625 26.703125 39.890625 \nQ 22.75 39.890625 18.8125 39.015625 \nQ 14.890625 38.140625 10.796875 36.28125 \nz\n\" id=\"DejaVuSans-53\"/>\n       </defs>\n       <use xlink:href=\"#DejaVuSans-53\"/>\n       <use x=\"63.623047\" xlink:href=\"#DejaVuSans-48\"/>\n       <use x=\"127.246094\" xlink:href=\"#DejaVuSans-48\"/>\n      </g>\n     </g>\n    </g>\n    <g id=\"ytick_11\">\n     <g id=\"line2d_15\">\n      <g>\n       <use style=\"stroke:#000000;stroke-width:0.8;\" x=\"333.00825\" xlink:href=\"#m76bee6a719\" y=\"39.32009\"/>\n      </g>\n     </g>\n     <g id=\"text_34\">\n      <!-- 600 -->\n      <g transform=\"translate(340.00825 43.119309)scale(0.1 -0.1)\">\n       <use xlink:href=\"#DejaVuSans-54\"/>\n       <use x=\"63.623047\" xlink:href=\"#DejaVuSans-48\"/>\n       <use x=\"127.246094\" xlink:href=\"#DejaVuSans-48\"/>\n      </g>\n     </g>\n    </g>\n   </g>\n   <g id=\"patch_4\">\n    <path d=\"M 322.13625 253.1955 \nL 322.13625 252.346125 \nL 322.13625 36.604875 \nL 322.13625 35.7555 \nL 333.00825 35.7555 \nL 333.00825 36.604875 \nL 333.00825 252.346125 \nL 333.00825 253.1955 \nz\n\" style=\"fill:none;\"/>\n   </g>\n  </g>\n </g>\n <defs>\n  <clipPath id=\"pc92c9aeebc\">\n   <rect height=\"217.44\" width=\"267.84\" x=\"37.55625\" y=\"35.7555\"/>\n  </clipPath>\n  <clipPath id=\"pfe69cb7333\">\n   <rect height=\"217.44\" width=\"10.872\" x=\"322.13625\" y=\"35.7555\"/>\n  </clipPath>\n </defs>\n</svg>\n",
      "image/png": "[encoded data removed]"
     },
     "metadata": {
      "needs_background": "light"
     }
    }
   ],
   "source": [
    "confusion(Y_pred, Y_test, prog_langs, name)"
   ]
  },
  {
   "cell_type": "code",
   "execution_count": 24,
   "metadata": {},
   "outputs": [
    {
     "name": "stdout",
     "output_type": "stream",
     "text": [
      "133/133 [==============================] - 47s 349ms/step - loss: 1.6656 - accuracy: 0.4683\n"
     ]
    },
    {
     "data": {
      "text/plain": [
       "[1.6655817031860352, 0.46833059191703796]"
      ]
     },
     "execution_count": 24,
     "metadata": {},
     "output_type": "execute_result"
    }
   ],
   "source": [
    "# model_article.evaluate(X_test, Y_test)"
   ]
  },
  {
   "cell_type": "markdown",
   "metadata": {},
   "source": [
    "## Modèle conv 2D"
   ]
  },
  {
   "cell_type": "code",
   "execution_count": 25,
   "metadata": {},
   "outputs": [],
   "source": [
    "n_in = 1024\n",
    "n_out = 4\n",
    "p_dropout = 0.5\n",
    "prog_langs = [\"html\", \"python\", \"c\", \"java\"]"
   ]
  },
  {
   "cell_type": "code",
   "execution_count": 26,
   "metadata": {},
   "outputs": [],
   "source": [
    "X_train = X_train.reshape(X_train.shape[0],X_train.shape[1],X_train.shape[2],1)\n",
    "X_test = X_test.reshape(X_test.shape[0],X_test.shape[1],X_test.shape[2],1)"
   ]
  },
  {
   "cell_type": "code",
   "execution_count": 35,
   "metadata": {},
   "outputs": [],
   "source": [
    "model = keras.models.Sequential()\n",
    "model.add(keras.layers.Conv2D(32, (3, 3), activation='relu', input_shape=(1024, 101,1)))\n",
    "model.add(keras.layers.MaxPooling2D((2, 2)))\n",
    "model.add(keras.layers.Conv2D(64, (3, 3), activation='relu'))\n",
    "model.add(keras.layers.MaxPooling2D((2, 2)))\n",
    "model.add(keras.layers.Conv2D(64, (3, 3), activation='relu'))\n",
    "model.add(keras.layers.Flatten())\n",
    "model.add(keras.layers.Dense(32, activation='relu'))\n",
    "model.add(keras.layers.Dropout(p_dropout))\n",
    "model.add(keras.layers.Dense(4))"
   ]
  },
  {
   "cell_type": "code",
   "execution_count": 36,
   "metadata": {},
   "outputs": [
    {
     "name": "stdout",
     "output_type": "stream",
     "text": [
      "Model: \"sequential_2\"\n",
      "_________________________________________________________________\n",
      "Layer (type)                 Output Shape              Param #   \n",
      "=================================================================\n",
      "conv2d_6 (Conv2D)            (None, 1022, 99, 32)      320       \n",
      "_________________________________________________________________\n",
      "max_pooling2d_4 (MaxPooling2 (None, 511, 49, 32)       0         \n",
      "_________________________________________________________________\n",
      "conv2d_7 (Conv2D)            (None, 509, 47, 64)       18496     \n",
      "_________________________________________________________________\n",
      "max_pooling2d_5 (MaxPooling2 (None, 254, 23, 64)       0         \n",
      "_________________________________________________________________\n",
      "conv2d_8 (Conv2D)            (None, 252, 21, 64)       36928     \n",
      "_________________________________________________________________\n",
      "flatten_2 (Flatten)          (None, 338688)            0         \n",
      "_________________________________________________________________\n",
      "dense_2 (Dense)              (None, 32)                10838048  \n",
      "_________________________________________________________________\n",
      "dropout (Dropout)            (None, 32)                0         \n",
      "_________________________________________________________________\n",
      "dense_3 (Dense)              (None, 4)                 132       \n",
      "=================================================================\n",
      "Total params: 10,893,924\n",
      "Trainable params: 10,893,924\n",
      "Non-trainable params: 0\n",
      "_________________________________________________________________\n"
     ]
    }
   ],
   "source": [
    "model.summary()"
   ]
  },
  {
   "cell_type": "code",
   "execution_count": 38,
   "metadata": {},
   "outputs": [],
   "source": [
    "BATCH_SIZE = 32\n",
    "EPOCHS = 6\n",
    "LEARNING_RATE = 0.001"
   ]
  },
  {
   "cell_type": "code",
   "execution_count": 39,
   "metadata": {},
   "outputs": [],
   "source": [
    "model.compile(optimizer=tf.keras.optimizers.Adam(lr = LEARNING_RATE)\n",
    ",\n",
    "              loss=tf.keras.losses.CategoricalCrossentropy(from_logits=True),\n",
    "              metrics=['accuracy'])"
   ]
  },
  {
   "cell_type": "code",
   "execution_count": 40,
   "metadata": {},
   "outputs": [
    {
     "name": "stdout",
     "output_type": "stream",
     "text": [
      "Epoch 1/6\n",
      "102/102 [==============================] - 207s 2s/step - loss: 1.3770 - accuracy: 0.3462 - val_loss: 0.9033 - val_accuracy: 0.6726\n",
      "Epoch 2/6\n",
      "102/102 [==============================] - 193s 2s/step - loss: 0.8888 - accuracy: 0.6456 - val_loss: 0.6153 - val_accuracy: 0.7991\n",
      "Epoch 3/6\n",
      "102/102 [==============================] - 191s 2s/step - loss: 0.6028 - accuracy: 0.7419 - val_loss: 0.5056 - val_accuracy: 0.8327\n",
      "Epoch 4/6\n",
      "102/102 [==============================] - 188s 2s/step - loss: 0.3738 - accuracy: 0.8397 - val_loss: 0.4864 - val_accuracy: 0.8370\n",
      "Epoch 5/6\n",
      "102/102 [==============================] - 189s 2s/step - loss: 0.3001 - accuracy: 0.8733 - val_loss: 0.5699 - val_accuracy: 0.8477\n",
      "Epoch 6/6\n",
      "102/102 [==============================] - 189s 2s/step - loss: 0.2302 - accuracy: 0.8982 - val_loss: 0.5348 - val_accuracy: 0.8470\n"
     ]
    }
   ],
   "source": [
    "history = model.fit(X_train, Y_train, epochs=EPOCHS, batch_size = BATCH_SIZE, validation_split=0.3) #Par défaut, batch size de 32"
   ]
  },
  {
   "cell_type": "code",
   "execution_count": 48,
   "metadata": {},
   "outputs": [],
   "source": [
    "model.save('models/model_final.h5')"
   ]
  },
  {
   "cell_type": "code",
   "execution_count": 32,
   "metadata": {},
   "outputs": [],
   "source": [
    "name = \"model_final\""
   ]
  },
  {
   "cell_type": "code",
   "execution_count": 33,
   "metadata": {},
   "outputs": [],
   "source": [
    "model = keras.models.load_model(\"models/model_final.h5\")"
   ]
  },
  {
   "cell_type": "code",
   "execution_count": 34,
   "metadata": {},
   "outputs": [],
   "source": [
    "Y_pred = model.predict(X_test)"
   ]
  },
  {
   "cell_type": "code",
   "execution_count": 35,
   "metadata": {},
   "outputs": [
    {
     "data": {
      "image/png": "[encoded data removed]",
      "text/plain": [
       "<Figure size 432x288 with 2 Axes>"
      ]
     },
     "metadata": {
      "needs_background": "light"
     },
     "output_type": "display_data"
    }
   ],
   "source": [
    "confusion(Y_pred, Y_test, prog_langs, name, False)"
   ]
  },
  {
   "cell_type": "code",
   "execution_count": 63,
   "metadata": {},
   "outputs": [
    {
     "data": {
      "image/png": "[encoded data removed]",
      "text/plain": [
       "<Figure size 432x288 with 1 Axes>"
      ]
     },
     "metadata": {
      "needs_background": "light"
     },
     "output_type": "display_data"
    },
    {
     "data": {
      "image/png": "[encoded data removed]",
      "text/plain": [
       "<Figure size 432x288 with 1 Axes>"
      ]
     },
     "metadata": {
      "needs_background": "light"
     },
     "output_type": "display_data"
    }
   ],
   "source": [
    "# summarize history for accuracy\n",
    "plt.plot(history.history['accuracy'])\n",
    "plt.plot(history.history['val_accuracy'])\n",
    "plt.title('model accuracy')\n",
    "plt.ylabel('accuracy')\n",
    "plt.xlabel('epoch')\n",
    "plt.legend(['train', 'test'], loc='upper left')\n",
    "plt.show()\n",
    "# summarize history for loss\n",
    "plt.plot(history.history['loss'])\n",
    "plt.plot(history.history['val_loss'])\n",
    "plt.title('model loss')\n",
    "plt.ylabel('loss')\n",
    "plt.xlabel('epoch')\n",
    "plt.legend(['train', 'test'], loc='upper left')\n",
    "plt.show()"
   ]
  },
  {
   "cell_type": "code",
   "execution_count": 64,
   "metadata": {},
   "outputs": [
    {
     "name": "stdout",
     "output_type": "stream",
     "text": [
      "63/63 [==============================] - 26s 416ms/step - loss: 0.5623 - accuracy: 0.8429\n",
      "La précision sur le jeu de test de 84.29214358329773 %\n"
     ]
    }
   ],
   "source": [
    "evaluation =model.evaluate(X_test,Y_test)\n",
    "print(\"La précision sur le jeu de test de\", evaluation[1]*100,\"%\")"
   ]
  },
  {
   "cell_type": "markdown",
   "metadata": {},
   "source": [
    "# Prédictions"
   ]
  },
  {
   "cell_type": "markdown",
   "metadata": {},
   "source": [
    "### Quelques fonctions utiles"
   ]
  },
  {
   "cell_type": "markdown",
   "metadata": {},
   "source": [
    "On crée une fonction qui fait l'endocage d'un script, dont la sortie pourra être l'objet d'une prédiction du modèle"
   ]
  },
  {
   "cell_type": "code",
   "execution_count": 36,
   "metadata": {},
   "outputs": [],
   "source": [
    "def preprocessing_script(script): #De la forme ['le_script']\n",
    "    n = 1024\n",
    "    if len(script[0])<n:\n",
    "        warnings.warn(\"deprecated\", DeprecationWarning)\n",
    "    else:\n",
    "        script_cut = keep_n_first_caracters(script, n)\n",
    "        script_encoded = oneHotEncoding(script_cut)\n",
    "        res = script_encoded.reshape(script_encoded.shape[0],script_encoded.shape[1],script_encoded.shape[2],1)\n",
    "    return res"
   ]
  },
  {
   "cell_type": "markdown",
   "metadata": {},
   "source": [
    "On crée une fonction qui décode la sortie"
   ]
  },
  {
   "cell_type": "code",
   "execution_count": 37,
   "metadata": {},
   "outputs": [],
   "source": [
    "def decoder_sortie(output):\n",
    "    max_index = np.argmax(output[0], axis=0)\n",
    "    if(max_index==0):\n",
    "        return \"C\"\n",
    "    if(max_index==1):\n",
    "        return \"html\"\n",
    "    if(max_index==2):\n",
    "        return \"java\"\n",
    "    if(max_index==3):\n",
    "        return \"python\""
   ]
  },
  {
   "cell_type": "markdown",
   "metadata": {},
   "source": [
    "On crée une fonction prédire qui prend en compte l'encodage et le décodage"
   ]
  },
  {
   "cell_type": "code",
   "execution_count": 38,
   "metadata": {},
   "outputs": [],
   "source": [
    "def predire(script, retourner_probas = False): # de la forme ['un_script']\n",
    "    script_endoded = preprocessing_script(script)\n",
    "    output = model.predict(script_endoded)\n",
    "    res = decoder_sortie(output)\n",
    "    if retourner_probas==True:\n",
    "        return softmax(output)\n",
    "    return res"
   ]
  },
  {
   "cell_type": "markdown",
   "metadata": {},
   "source": [
    "Fonction qui sert à lire un fichier"
   ]
  },
  {
   "cell_type": "code",
   "execution_count": 39,
   "metadata": {},
   "outputs": [],
   "source": [
    "def lire_fichier(path):\n",
    "    file = open(path, \"r\")\n",
    "    script = file.read()\n",
    "    file.close()\n",
    "    return script"
   ]
  },
  {
   "cell_type": "markdown",
   "metadata": {},
   "source": [
    "### Prédictions sur des vrais données"
   ]
  },
  {
   "cell_type": "code",
   "execution_count": 40,
   "metadata": {},
   "outputs": [],
   "source": [
    "script = [lire_fichier('index.html')]"
   ]
  },
  {
   "cell_type": "code",
   "execution_count": 47,
   "metadata": {},
   "outputs": [
    {
     "name": "stdout",
     "output_type": "stream",
     "text": [
      "['<!DOCTYPE HTML>\\n\\n<html>\\n\\t<head>\\n\\t\\t<title>Lucas WANNENMACHER</title>\\n\\t\\t<meta charset=\"utf-8\" />\\n\\t\\t<meta name=\"viewport\" content=\"width=device-width, initial-scale=1\" />\\n\\t\\t<link rel=\"stylesheet\" href=\"assets/css/main.css\" />\\n\\t</head>\\n\\t<body>\\n\\n\\t\\t<!-- Header -->\\n\\t\\t\\t<header id=\"header\" class=\"alt\">\\n\\t\\t\\t\\t<div class=\"logo\"><a href=\"index.html\">\\n\\t\\t\\t\\t\\tPersonal website of <span>lucas WANNENMACHER</span></a></div>\\n\\t\\t\\t\\t<a href=\"#menu\">Menu</a>\\n\\t\\t\\t</header>\\n\\n\\t\\t<!-- Nav -->\\n\\t\\t\\t<nav id=\"menu\">\\n\\t\\t\\t\\t<ul class=\"links\">\\n\\t\\t\\t\\t\\t<li><a href=\"index.html\">Home</a></li>\\n\\t\\t\\t\\t</ul>\\n\\t\\t\\t</nav>\\n\\n\\t\\t<!-- Banner -->\\n\\t\\t\\t<section id=\"banner\">\\n\\t\\t\\t\\t<div class=\"inner\">\\n\\t\\t\\t\\t\\t<header>\\n\\t\\t\\t\\t\\t\\t<h1>Dynamic. Creative. Motivated.</h1>\\n\\t\\t\\t\\t\\t\\t<p>\\n\\t\\t\\t\\t\\t\\t\\tIf you are interested in my profile, you will find here my background, an overview of my skills, my projects and my CV.</p>\\n\\t\\t\\t\\t\\t\\t<p> Note: the project section of the site is not finished. For the moment, the link refers to my github repositories.</p>\\n\\t\\t\\t\\t\\t</header>\\n\\t\\t\\t\\t\\t<a href=\"#parcoursAcademique\" class=\"button big scrolly\">\\n\\t\\t\\t\\t\\t\\tMy academic background</a>\\n\\t\\t\\t\\t\\t<a href=\"#competences\" class=\"button big scrolly\">My skills</a>\\n\\t\\t\\t\\t\\t<a href=\"https://github.com/lucaswannen?tab=repositories\" class=\"button big scrolly\">My projects</a>\\n\\t\\t\\t\\t</div>\\n\\t\\t\\t</section>\\n\\n\\t\\t<!-- Main -->\\n\\t\\t\\t<div id=\"main\">\\n\\n\\n\\t\\t\\t\\t<!-- Section -->\\n\\t\\t\\t\\t\\t<section class=\"wrapper style1\" id=\"parcoursAcademique\">\\n\\t\\t\\t\\t\\t\\t<div class=\"inner\">\\n\\t\\t\\t\\t\\t\\t\\t<header class=\"align-center\">\\n\\t\\t\\t\\t\\t\\t\\t\\t<h2>\\n\\t\\t\\t\\t\\t\\t\\t\\t\\tMy academic background</h2>\\n\\t\\t\\t\\t\\t\\t\\t\\t<p>\\n\\t\\t\\t\\t\\t\\t\\t\\t\\tClick on the buttons for more details.</p>\\n\\t\\t\\t\\t\\t\\t\\t</header>\\n\\n\\t\\t\\t\\t\\t\\t\\t<div class=\"flex flex-3\">\\n\\t\\t\\t\\t\\t\\t\\t\\t<div class=\"col align-center\">\\n\\t\\t\\t\\t\\t\\t\\t\\t\\t<div class=\"image round fit\">\\n\\t\\t\\t\\t\\t\\t\\t\\t\\t\\t<img src=\"images/revisions.jpg\" alt=\"\" />\\n\\t\\t\\t\\t\\t\\t\\t\\t\\t</div>\\n\\t\\t\\t\\t\\t\\t\\t\\t\\t<h4>Scientific Baccalaureate</h4>\\n\\t\\t\\t\\t\\t\\t\\t\\t\\t<h5>Mathematics option</h5>\\n\\t\\t\\t\\t\\t\\t\\t\\t\\t<a href=\"monBaccalaureat.html\" class=\"button\">My Baccalaureate</a>\\n\\t\\t\\t\\t\\t\\t\\t\\t</div>\\n\\t\\t\\t\\t\\t\\t\\t\\t<div class=\"col align-center\">\\n\\t\\t\\t\\t\\t\\t\\t\\t\\t<div class=\"image round fit\">\\n\\t\\t\\t\\t\\t\\t\\t\\t\\t\\t<img src=\"images/lyceeFabert.png\" alt=\"\" />\\n\\t\\t\\t\\t\\t\\t\\t\\t\\t</div>\\n\\t\\t\\t\\t\\t\\t\\t\\t\\t<h4>Classe Préparatoire aux Grandes Ecoles</h4>\\n\\t\\t\\t\\t\\t\\t\\t\\t\\t<h5>Physics and Engineering Sciences</h5>\\n\\t\\t\\t\\t\\t\\t\\t\\t\\t<a href=\"mesAnneesCPGE.html\" class=\"button\">My CPGE</a>\\n\\t\\t\\t\\t\\t\\t\\t\\t</div>\\n\\t\\t\\t\\t\\t\\t\\t\\t<div class=\"col align-center\">\\n\\t\\t\\t\\t\\t\\t\\t\\t\\t<div class=\"image round fit\">\\n\\t\\t\\t\\t\\t\\t\\t\\t\\t\\t<img src=\"images/insaRouenV2.png\" alt=\"\" />\\n\\t\\t\\t\\t\\t\\t\\t\\t\\t</div>\\n\\t\\t\\t\\t\\t\\t\\t\\t\\t<h4>INSA ROUEN</h4>\\n\\t\\t\\t\\t\\t\\t\\t\\t\\t<h5>Computing and Information Technologies</h5>\\n\\t\\t\\t\\t\\t\\t\\t\\t\\t<a href=\"maFormationDingenieur.html\" class=\"button\">\\n\\t\\t\\t\\t\\t\\t\\t\\t\\t\\tMy years at INSA Rouen</a>\\n\\t\\t\\t\\t\\t\\t\\t\\t</div>\\n\\t\\t\\t\\t\\t\\t\\t</div>\\n\\t\\t\\t\\t\\t\\t</div>\\n\\t\\t\\t\\t\\t</section>\\n\\n\\t\\t\\t\\t<!-- Section -->\\n\\t\\t\\t\\t\\t<section class=\"wrapper style2\" id=\"competences\" >\\n\\t\\t\\t\\t\\t\\t<div class=\"inner\">\\n\\t\\t\\t\\t\\t\\t\\t<header class=\"align-center\">\\n\\t\\t\\t\\t\\t\\t\\t\\t<h2>\\n\\t\\t\\t\\t\\t\\t\\t\\t\\tMy skills</h2>\\n\\t\\t\\t\\t\\t\\t\\t\\t<p>field of skills</p>\\n\\t\\t\\t\\t\\t\\t\\t</header>\\n\\n\\t\\t\\t\\t\\t\\t\\t<div class=\"flex flex-3\">\\n\\t\\t\\t\\t\\t\\t\\t\\t<div class=\"col align-center\">\\n\\t\\t\\t\\t\\t\\t\\t\\t\\t<h4>Information technology</h4>\\n\\t\\t\\t\\t\\t\\t\\t\\t\\t<ul>\\n\\t\\t\\t\\t\\t\\t\\t\\t\\t\\t<li>Advanced algorithmic</li>\\n\\t\\t\\t\\t\\t\\t\\t\\t\\t\\t<li>Data science & data engineering</li>\\n\\t\\t\\t\\t\\t\\t\\t\\t\\t\\t<li>Machine learning, image processing</li>\\n\\t\\t\\t\\t\\t\\t\\t\\t\\t\\t<li>Web development</li>\\n\\t\\t\\t\\t\\t\\t\\t\\t\\t\\t<li>Networks</li>\\n\\t\\t\\t\\t\\t\\t\\t\\t\\t\\t<li>electronic</li>\\n\\t\\t\\t\\t\\t\\t\\t\\t\\t\\t<li>Project management (Git, agile methods, devops, etc.)</li>\\n\\t\\t\\t\\t\\t\\t\\t\\t\\t</ul>\\n\\t\\t\\t\\t\\t\\t\\t\\t</div>\\n\\t\\t\\t\\t\\t\\t\\t\\t<div class=\"col align-center\">\\n\\t\\t\\t\\t\\t\\t\\t\\t\\t<h4>Sciences</h4>\\n\\t\\t\\t\\t\\t\\t\\t\\t\\t<ul>\\n\\t\\t\\t\\t\\t\\t\\t\\t\\t\\t<li>Mathematics:\\n\\t\\t\\t\\t\\t\\t\\t\\t\\t\\t\\t<ul>\\n\\t\\t\\t\\t\\t\\t\\t\\t\\t\\t\\t\\t<li>Statistics</li>\\n\\t\\t\\t\\t\\t\\t\\t\\t\\t\\t\\t\\t<li>Signal processing</li>\\n\\t\\t\\t\\t\\t\\t\\t\\t\\t\\t\\t\\t<li>numerical analysis</li>\\n\\t\\t\\t\\t\\t\\t\\t\\t\\t\\t\\t\\t<li>graph theory</li>\\n\\t\\t\\t\\t\\t\\t\\t\\t\\t\\t\\t</ul>\\n\\t\\t\\t\\t\\t\\t\\t\\t\\t\\t</li>\\n\\t\\t\\t\\t\\t\\t\\t\\t\\t\\t<li>Physical and Engineering Sciences</li>\\n\\t\\t\\t\\t\\t\\t\\t\\t\\t</ul>\\n\\t\\t\\t\\t\\t\\t\\t\\t</div>\\n\\t\\t\\t\\t\\t\\t\\t\\t<div class=\"col align-center\">\\n\\t\\t\\t\\t\\t\\t\\t\\t\\t<h4>Other</h4>\\n\\t\\t\\t\\t\\t\\t\\t\\t\\t<ul>\\n\\t\\t\\t\\t\\t\\t\\t\\t\\t\\t<li>languages: French, English and German</li>\\n\\t\\t\\t\\t\\t\\t\\t\\t\\t</ul>\\n\\t\\t\\t\\t\\t\\t\\t\\t</div>\\n\\t\\t\\t\\t\\t\\t\\t</div>\\n\\t\\t\\t\\t\\t\\t\\t<div class=\"align-center\">\\n\\t\\t\\t\\t\\t\\t\\t\\t<a href=\"http://lucas.wannenmacher.fr/CV_WANNENMACHER_Lucas.pdf\" class=\"button\">My CV</a>\\n\\t\\t\\t\\t\\t\\t\\t</div>\\n\\t\\t\\t\\t\\t\\t</div>\\n\\t\\t\\t\\t\\t</section>\\n\\n\\t\\t\\n\\n\\n\\n\\t\\t\\t</div>\\n\\n\\t\\t<!-- Footer -->\\n\\t\\t\\t<footer id=\"footer\">\\n\\t\\t\\t\\t<div class=\"copyright\">\\n\\t\\t\\t\\t\\t<ul class=\"icons\">\\n\\t\\t\\t\\t\\t\\t<li><a href=\"https://www.linkedin.com/in/lucas-wannenmacher-5540001a0\" class=\"icon fa-linkedin\"><span class=\"label\">Linkedin</span></a></li>\\n\\t\\t\\t\\t\\t</ul>\\n\\t\\t\\t\\t\\t<p>&copy; Developped by Lucas Wannenmacher</a>.</p>\\n\\t\\t\\t\\t</div>\\n\\t\\t\\t</footer>\\n\\n\\t\\t<!-- Scripts -->\\n\\t\\t\\t<script src=\"assets/js/jquery.min.js\"></script>\\n\\t\\t\\t<script src=\"assets/js/jquery.scrolly.min.js\"></script>\\n\\t\\t\\t<script src=\"assets/js/jquery.scrollex.min.js\"></script>\\n\\t\\t\\t<script src=\"assets/js/skel.min.js\"></script>\\n\\t\\t\\t<script src=\"assets/js/util.js\"></script>\\n\\t\\t\\t<script src=\"assets/js/main.js\"></script>\\n\\n\\t</body>\\n</html>\\n']\n"
     ]
    }
   ],
   "source": [
    "print(script[0:2000])"
   ]
  },
  {
   "cell_type": "code",
   "execution_count": 48,
   "metadata": {},
   "outputs": [
    {
     "name": "stdout",
     "output_type": "stream",
     "text": [
      "html\n"
     ]
    }
   ],
   "source": [
    "print(predire(script))"
   ]
  },
  {
   "cell_type": "code",
   "execution_count": 49,
   "metadata": {},
   "outputs": [
    {
     "name": "stdout",
     "output_type": "stream",
     "text": [
      "probabilités C, html, java, python :\n",
      "[[0.0010209  0.88256806 0.08191667 0.03449469]]\n"
     ]
    }
   ],
   "source": [
    "print(\"probabilités C, html, java, python :\")\n",
    "print(predire(script, True))"
   ]
  },
  {
   "cell_type": "code",
   "execution_count": null,
   "metadata": {},
   "outputs": [],
   "source": []
  },
  {
   "cell_type": "code",
   "execution_count": null,
   "metadata": {},
   "outputs": [],
   "source": []
  },
  {
   "cell_type": "code",
   "execution_count": null,
   "metadata": {},
   "outputs": [],
   "source": []
  },
  {
   "cell_type": "code",
   "execution_count": null,
   "metadata": {},
   "outputs": [],
   "source": []
  },
  {
   "cell_type": "code",
   "execution_count": null,
   "metadata": {},
   "outputs": [],
   "source": []
  },
  {
   "cell_type": "code",
   "execution_count": null,
   "metadata": {},
   "outputs": [],
   "source": []
  }
 ],
 "metadata": {
  "kernelspec": {
   "name": "python385jvsc74a57bd0916dbcbb3f70747c44a77c7bcd40155683ae19c65e1c03b4aa3499c5328201f1",
   "display_name": "Python 3.8.5 64-bit"
  },
  "language_info": {
   "codemirror_mode": {
    "name": "ipython",
    "version": 3
   },
   "file_extension": ".py",
   "mimetype": "text/x-python",
   "name": "python",
   "nbconvert_exporter": "python",
   "pygments_lexer": "ipython3",
   "version": "3.8.5"
  },
  "metadata": {
   "interpreter": {
    "hash": "916dbcbb3f70747c44a77c7bcd40155683ae19c65e1c03b4aa3499c5328201f1"
   }
  }
 },
 "nbformat": 4,
 "nbformat_minor": 4
}